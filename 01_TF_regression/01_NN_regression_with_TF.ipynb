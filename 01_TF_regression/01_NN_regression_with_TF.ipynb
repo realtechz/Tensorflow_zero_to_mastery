{
  "nbformat": 4,
  "nbformat_minor": 0,
  "metadata": {
    "colab": {
      "name": "01_NN_regression_with_TF.ipynb",
      "provenance": [],
      "collapsed_sections": [
        "vZrelmSReKxv",
        "3NsDYe0srA0M"
      ],
      "include_colab_link": true
    },
    "kernelspec": {
      "name": "python3",
      "display_name": "Python 3"
    },
    "language_info": {
      "name": "python"
    }
  },
  "cells": [
    {
      "cell_type": "markdown",
      "metadata": {
        "id": "view-in-github",
        "colab_type": "text"
      },
      "source": [
        "<a href=\"https://colab.research.google.com/github/realtechz/Tensorflow_zero_to_mastery/blob/main/01_TF_regression/01_NN_regression_with_TF.ipynb\" target=\"_parent\"><img src=\"https://colab.research.google.com/assets/colab-badge.svg\" alt=\"Open In Colab\"/></a>"
      ]
    },
    {
      "cell_type": "code",
      "metadata": {
        "id": "1tjHecghiS1w"
      },
      "source": [
        "#01_TF_regression/"
      ],
      "execution_count": 158,
      "outputs": []
    },
    {
      "cell_type": "markdown",
      "metadata": {
        "id": "naDY3zAkWW6b"
      },
      "source": [
        "# Introduction to Regression with Neural Networks in Tensorflow\n",
        "\n",
        "There are many defintions for a regression problem but in our case, we are going to simplify it: Predicting a numercial variable base on some other combination of variables , even shorter.. predicting a number."
      ]
    },
    {
      "cell_type": "code",
      "metadata": {
        "colab": {
          "base_uri": "https://localhost:8080/"
        },
        "id": "82gotfb1dpwy",
        "outputId": "384de7a3-9347-4f6d-d76f-a25e4107c0e9"
      },
      "source": [
        "# Import Tensorflow\n",
        "import tensorflow as tf\n",
        "print(tf.__version__)"
      ],
      "execution_count": 159,
      "outputs": [
        {
          "output_type": "stream",
          "text": [
            "2.5.0\n"
          ],
          "name": "stdout"
        }
      ]
    },
    {
      "cell_type": "markdown",
      "metadata": {
        "id": "vZrelmSReKxv"
      },
      "source": [
        "## Creating data to view and fit "
      ]
    },
    {
      "cell_type": "code",
      "metadata": {
        "colab": {
          "base_uri": "https://localhost:8080/",
          "height": 0
        },
        "id": "R5PkFhujmYEA",
        "outputId": "9714ce70-c2bc-48d5-cd43-e28233898a8e"
      },
      "source": [
        "import numpy as np\n",
        "import matplotlib.pyplot as plt\n",
        "\n",
        "\n",
        "# create the features\n",
        "X = np.array([-7.0, -4.0, -1.0, 2.0, 5.0, 8.0, 11.0, 14.0])\n",
        "\n",
        "# create labels\n",
        "y= np.array([3.0, 6.0, 9.0, 12.0,15.0, 18.0, 21.0, 24.0])\n",
        "\n",
        "# Visualize it\n",
        "plt.scatter(X, y)"
      ],
      "execution_count": 160,
      "outputs": [
        {
          "output_type": "execute_result",
          "data": {
            "text/plain": [
              "<matplotlib.collections.PathCollection at 0x1b683594a90>"
            ]
          },
          "metadata": {
            "tags": []
          },
          "execution_count": 160
        },
        {
          "output_type": "display_data",
          "data": {
            "text/plain": [
              "<Figure size 432x288 with 1 Axes>"
            ],
            "image/png": "[encoded data removed]"
          },
          "metadata": {
            "tags": [],
            "needs_background": "light"
          }
        }
      ]
    },
    {
      "cell_type": "code",
      "metadata": {
        "id": "0yMvgBtHm9BV",
        "colab": {
          "base_uri": "https://localhost:8080/"
        },
        "outputId": "26c7265b-ce35-4afb-ee95-302d210f11d8"
      },
      "source": [
        "y == X + 10"
      ],
      "execution_count": 161,
      "outputs": [
        {
          "output_type": "execute_result",
          "data": {
            "text/plain": [
              "array([ True,  True,  True,  True,  True,  True,  True,  True])"
            ]
          },
          "metadata": {
            "tags": []
          },
          "execution_count": 161
        }
      ]
    },
    {
      "cell_type": "markdown",
      "metadata": {
        "id": "3NsDYe0srA0M"
      },
      "source": [
        "## Input and output shapes\n"
      ]
    },
    {
      "cell_type": "code",
      "metadata": {
        "colab": {
          "base_uri": "https://localhost:8080/"
        },
        "id": "Znd9EODJsc-i",
        "outputId": "519064d7-6772-4865-e24d-61976fa1e8a4"
      },
      "source": [
        "# Create a demo tensor for our housing price prediction problem\n",
        "house_info = tf.constant([\"bedroom\", \"bathroom\", \"garage\"])\n",
        "house_price = tf.constant([939700])\n",
        "house_info,house_price\n"
      ],
      "execution_count": 162,
      "outputs": [
        {
          "output_type": "execute_result",
          "data": {
            "text/plain": [
              "(<tf.Tensor: shape=(3,), dtype=string, numpy=array([b'bedroom', b'bathroom', b'garage'], dtype=object)>,\n",
              " <tf.Tensor: shape=(1,), dtype=int32, numpy=array([939700])>)"
            ]
          },
          "metadata": {
            "tags": []
          },
          "execution_count": 162
        }
      ]
    },
    {
      "cell_type": "code",
      "metadata": {
        "colab": {
          "base_uri": "https://localhost:8080/"
        },
        "id": "EVkXiQCOtYBM",
        "outputId": "bc818a8d-d864-42e4-ff1a-6cfdc2c66b14"
      },
      "source": [
        "X[0], y[0]"
      ],
      "execution_count": 163,
      "outputs": [
        {
          "output_type": "execute_result",
          "data": {
            "text/plain": [
              "(-7.0, 3.0)"
            ]
          },
          "metadata": {
            "tags": []
          },
          "execution_count": 163
        }
      ]
    },
    {
      "cell_type": "code",
      "metadata": {
        "colab": {
          "base_uri": "https://localhost:8080/"
        },
        "id": "639b7Fs6tYGH",
        "outputId": "9782ec42-de58-4501-e743-e9edb7b47bce"
      },
      "source": [
        "X[1], y[1]"
      ],
      "execution_count": 164,
      "outputs": [
        {
          "output_type": "execute_result",
          "data": {
            "text/plain": [
              "(-4.0, 6.0)"
            ]
          },
          "metadata": {
            "tags": []
          },
          "execution_count": 164
        }
      ]
    },
    {
      "cell_type": "code",
      "metadata": {
        "colab": {
          "base_uri": "https://localhost:8080/"
        },
        "id": "_Wti38kks6t0",
        "outputId": "7d6358e4-d511-46b7-bcf0-e605217ce1a2"
      },
      "source": [
        "input_shape = X[0].shape\n",
        "output_shape = y[0].shape\n",
        "input_shape, output_shape"
      ],
      "execution_count": 165,
      "outputs": [
        {
          "output_type": "execute_result",
          "data": {
            "text/plain": [
              "((), ())"
            ]
          },
          "metadata": {
            "tags": []
          },
          "execution_count": 165
        }
      ]
    },
    {
      "cell_type": "code",
      "metadata": {
        "colab": {
          "base_uri": "https://localhost:8080/"
        },
        "id": "RMIufM0ztQb9",
        "outputId": "b6ac37cc-a0d5-4c99-ed4e-c6ba3ff40c74"
      },
      "source": [
        "X[0].ndim"
      ],
      "execution_count": 166,
      "outputs": [
        {
          "output_type": "execute_result",
          "data": {
            "text/plain": [
              "0"
            ]
          },
          "metadata": {
            "tags": []
          },
          "execution_count": 166
        }
      ]
    },
    {
      "cell_type": "markdown",
      "metadata": {
        "id": "CvYyM36atoqS"
      },
      "source": [
        " in simple words we are going to use 1 x to predict 1 y\n"
      ]
    },
    {
      "cell_type": "code",
      "metadata": {
        "colab": {
          "base_uri": "https://localhost:8080/"
        },
        "id": "taOHR8LkuCZd",
        "outputId": "d41e1a2f-7a2d-434a-e390-96e062505357"
      },
      "source": [
        "#Turn our NumPy arrays into tensors\n",
        "X = tf.constant(X)\n",
        "y = tf.constant(y)\n",
        "X, y"
      ],
      "execution_count": 167,
      "outputs": [
        {
          "output_type": "execute_result",
          "data": {
            "text/plain": [
              "(<tf.Tensor: shape=(8,), dtype=float64, numpy=array([-7., -4., -1.,  2.,  5.,  8., 11., 14.])>,\n",
              " <tf.Tensor: shape=(8,), dtype=float64, numpy=array([ 3.,  6.,  9., 12., 15., 18., 21., 24.])>)"
            ]
          },
          "metadata": {
            "tags": []
          },
          "execution_count": 167
        }
      ]
    },
    {
      "cell_type": "code",
      "metadata": {
        "colab": {
          "base_uri": "https://localhost:8080/"
        },
        "id": "k6O5lQH0uPWg",
        "outputId": "332f0590-6728-4ac6-ad3f-eb2a2bbcea9f"
      },
      "source": [
        "input_shape = X[0].shape\n",
        "output_shape = y[0].shape\n",
        "input_shape, output_shape"
      ],
      "execution_count": 168,
      "outputs": [
        {
          "output_type": "execute_result",
          "data": {
            "text/plain": [
              "(TensorShape([]), TensorShape([]))"
            ]
          },
          "metadata": {
            "tags": []
          },
          "execution_count": 168
        }
      ]
    },
    {
      "cell_type": "code",
      "metadata": {
        "colab": {
          "base_uri": "https://localhost:8080/",
          "height": 0
        },
        "id": "s35W0IRBuVXX",
        "outputId": "8151fab5-2ce8-4d59-f6b6-e01c2e5252b5"
      },
      "source": [
        "plt.scatter(X, y)"
      ],
      "execution_count": 169,
      "outputs": [
        {
          "output_type": "execute_result",
          "data": {
            "text/plain": [
              "<matplotlib.collections.PathCollection at 0x1b68394d760>"
            ]
          },
          "metadata": {
            "tags": []
          },
          "execution_count": 169
        },
        {
          "output_type": "display_data",
          "data": {
            "text/plain": [
              "<Figure size 432x288 with 1 Axes>"
            ],
            "image/png": "[encoded data removed]"
          },
          "metadata": {
            "tags": [],
            "needs_background": "light"
          }
        }
      ]
    },
    {
      "cell_type": "markdown",
      "metadata": {
        "id": "-cpIi3r9ucIK"
      },
      "source": [
        "## Steps in modelling with tensorflow\n",
        "\n",
        "1. **Creating a model** - define the input and output layers, as well as the hiddem layers of a deep learning mode.\n",
        "2. **Compiling a model** - define the loss function( in other words, the function which tells our model how wrong it is) and the optimizer (tells our model how to improve the patterns) and evaluation metrics( what we can use to interpret the performance of our model).\n",
        "3.**Fitting a model** - letting the model try to find patterns between X and Y (features and labels)."
      ]
    },
    {
      "cell_type": "code",
      "metadata": {
        "colab": {
          "base_uri": "https://localhost:8080/"
        },
        "id": "dCmxCxhcvjyM",
        "outputId": "1b7de245-f113-46a8-964f-d2327180aa64"
      },
      "source": [
        "# Set random seed\n",
        "tf.random.set_seed(42)\n",
        "\n",
        "# 1. Create a model using the Sequential API\n",
        "model = tf.keras.Sequential(\n",
        "    [\n",
        "                             tf.keras.layers.Dense(1)\n",
        "    ])\n",
        "\n",
        "# 2. compilethe model\n",
        "model.compile( loss = tf.keras.losses.mae,\n",
        "              optimizer = tf.keras.optimizers.SGD(),\n",
        "              metrics = [\"mae\"]) # mae is short for mean absolute error)\n",
        "\n",
        "# 3. Fit the model\n",
        "model.fit(X, y, epochs= 5)"
      ],
      "execution_count": 170,
      "outputs": [
        {
          "output_type": "stream",
          "text": [
            "Epoch 1/5\n",
            "1/1 [==============================] - 0s 217ms/step - loss: 11.5048 - mae: 11.5048\n",
            "Epoch 2/5\n",
            "1/1 [==============================] - 0s 2ms/step - loss: 11.3723 - mae: 11.3723\n",
            "Epoch 3/5\n",
            "1/1 [==============================] - 0s 2ms/step - loss: 11.2398 - mae: 11.2398\n",
            "Epoch 4/5\n",
            "1/1 [==============================] - 0s 2ms/step - loss: 11.1073 - mae: 11.1073\n",
            "Epoch 5/5\n",
            "1/1 [==============================] - 0s 2ms/step - loss: 10.9748 - mae: 10.9748\n"
          ],
          "name": "stdout"
        },
        {
          "output_type": "execute_result",
          "data": {
            "text/plain": [
              "<tensorflow.python.keras.callbacks.History at 0x1b683232790>"
            ]
          },
          "metadata": {
            "tags": []
          },
          "execution_count": 170
        }
      ]
    },
    {
      "cell_type": "code",
      "metadata": {
        "colab": {
          "base_uri": "https://localhost:8080/"
        },
        "id": "oRMCC0b_yf0-",
        "outputId": "68c97227-bcf3-409d-9ffd-9904208d77d2"
      },
      "source": [
        "# check out X and y\n",
        "X, y"
      ],
      "execution_count": 171,
      "outputs": [
        {
          "output_type": "execute_result",
          "data": {
            "text/plain": [
              "(<tf.Tensor: shape=(8,), dtype=float64, numpy=array([-7., -4., -1.,  2.,  5.,  8., 11., 14.])>,\n",
              " <tf.Tensor: shape=(8,), dtype=float64, numpy=array([ 3.,  6.,  9., 12., 15., 18., 21., 24.])>)"
            ]
          },
          "metadata": {
            "tags": []
          },
          "execution_count": 171
        }
      ]
    },
    {
      "cell_type": "code",
      "metadata": {
        "colab": {
          "base_uri": "https://localhost:8080/"
        },
        "id": "bYAR-IkmbsJJ",
        "outputId": "f626a9c9-54d8-412b-c625-767aefd5ab9e"
      },
      "source": [
        "# Try to make a prediction using our model\n",
        "y_pred = model.predict([17.0])\n",
        "y_pred"
      ],
      "execution_count": 172,
      "outputs": [
        {
          "output_type": "execute_result",
          "data": {
            "text/plain": [
              "array([[12.716021]], dtype=float32)"
            ]
          },
          "metadata": {
            "tags": []
          },
          "execution_count": 172
        }
      ]
    },
    {
      "cell_type": "code",
      "metadata": {
        "colab": {
          "base_uri": "https://localhost:8080/"
        },
        "id": "2Hooc9qPbwCA",
        "outputId": "5e3ccfbc-c149-47d5-81bf-97720c0570a4"
      },
      "source": [
        "y_pred + 11"
      ],
      "execution_count": 173,
      "outputs": [
        {
          "output_type": "execute_result",
          "data": {
            "text/plain": [
              "array([[23.71602]], dtype=float32)"
            ]
          },
          "metadata": {
            "tags": []
          },
          "execution_count": 173
        }
      ]
    },
    {
      "cell_type": "markdown",
      "metadata": {
        "id": "ofgKfJKlci2P"
      },
      "source": [
        "## Improving our model\n",
        "\n",
        "we can improve our model by altering the steps we took to create a model.\n",
        "\n",
        "1. **Creating a model** - here we might can add more layers, increase the number of hidden units\n",
        "( also called neurons) within each of the hidden layers, change the activation function of each layer.\n",
        "2. **Compiling the model**- here we might change the optimization function or prehaps the **learning rate** of the optimization function.\n",
        "3.**Fitting a model** - here we might fit a model for more **epochs** ( leave it training for longer ) or on more data."
      ]
    },
    {
      "cell_type": "code",
      "metadata": {
        "colab": {
          "base_uri": "https://localhost:8080/"
        },
        "id": "d4U8A5DEcs0N",
        "outputId": "b67ee169-6941-4c10-c559-3a4fd383c888"
      },
      "source": [
        "# Lets rebuild our model\n",
        "tf.random.set_seed(42)\n",
        "# 1. create a model\n",
        "model = tf.keras.Sequential([\n",
        "                             tf.keras.layers.Dense(1)\n",
        "])\n",
        "\n",
        "# 2. Compile the model\n",
        "model.compile(loss = tf.keras.losses.mae,\n",
        "              optimizer = tf.keras.optimizers.SGD(),\n",
        "              metrics = [\"mae\"])\n",
        "\n",
        "# fit the model (this time we will train it for longer)\n",
        "model.fit(X, y, epochs = 100)\n"
      ],
      "execution_count": 174,
      "outputs": [
        {
          "output_type": "stream",
          "text": [
            "Epoch 1/100\n",
            "1/1 [==============================] - 0s 225ms/step - loss: 11.5048 - mae: 11.5048\n",
            "Epoch 2/100\n",
            "1/1 [==============================] - 0s 2ms/step - loss: 11.3723 - mae: 11.3723\n",
            "Epoch 3/100\n",
            "1/1 [==============================] - 0s 2ms/step - loss: 11.2398 - mae: 11.2398\n",
            "Epoch 4/100\n",
            "1/1 [==============================] - 0s 2ms/step - loss: 11.1073 - mae: 11.1073\n",
            "Epoch 5/100\n",
            "1/1 [==============================] - 0s 3ms/step - loss: 10.9748 - mae: 10.9748\n",
            "Epoch 6/100\n",
            "1/1 [==============================] - 0s 2ms/step - loss: 10.8423 - mae: 10.8423\n",
            "Epoch 7/100\n",
            "1/1 [==============================] - 0s 2ms/step - loss: 10.7098 - mae: 10.7098\n",
            "Epoch 8/100\n",
            "1/1 [==============================] - 0s 2ms/step - loss: 10.5773 - mae: 10.5773\n",
            "Epoch 9/100\n",
            "1/1 [==============================] - 0s 2ms/step - loss: 10.4448 - mae: 10.4448\n",
            "Epoch 10/100\n",
            "1/1 [==============================] - 0s 2ms/step - loss: 10.3123 - mae: 10.3123\n",
            "Epoch 11/100\n",
            "1/1 [==============================] - 0s 3ms/step - loss: 10.1798 - mae: 10.1798\n",
            "Epoch 12/100\n",
            "1/1 [==============================] - 0s 2ms/step - loss: 10.0473 - mae: 10.0473\n",
            "Epoch 13/100\n",
            "1/1 [==============================] - 0s 2ms/step - loss: 9.9148 - mae: 9.9148\n",
            "Epoch 14/100\n",
            "1/1 [==============================] - 0s 2ms/step - loss: 9.7823 - mae: 9.7823\n",
            "Epoch 15/100\n",
            "1/1 [==============================] - 0s 3ms/step - loss: 9.6498 - mae: 9.6498\n",
            "Epoch 16/100\n",
            "1/1 [==============================] - 0s 2ms/step - loss: 9.5173 - mae: 9.5173\n",
            "Epoch 17/100\n",
            "1/1 [==============================] - 0s 2ms/step - loss: 9.3848 - mae: 9.3848\n",
            "Epoch 18/100\n",
            "1/1 [==============================] - 0s 998us/step - loss: 9.2523 - mae: 9.2523\n",
            "Epoch 19/100\n",
            "1/1 [==============================] - 0s 2ms/step - loss: 9.1198 - mae: 9.1198\n",
            "Epoch 20/100\n",
            "1/1 [==============================] - 0s 2ms/step - loss: 8.9873 - mae: 8.9873\n",
            "Epoch 21/100\n",
            "1/1 [==============================] - 0s 3ms/step - loss: 8.8548 - mae: 8.8548\n",
            "Epoch 22/100\n",
            "1/1 [==============================] - 0s 2ms/step - loss: 8.7223 - mae: 8.7223\n",
            "Epoch 23/100\n",
            "1/1 [==============================] - 0s 2ms/step - loss: 8.5898 - mae: 8.5898\n",
            "Epoch 24/100\n",
            "1/1 [==============================] - 0s 2ms/step - loss: 8.4573 - mae: 8.4573\n",
            "Epoch 25/100\n",
            "1/1 [==============================] - 0s 2ms/step - loss: 8.3248 - mae: 8.3248\n",
            "Epoch 26/100\n",
            "1/1 [==============================] - 0s 2ms/step - loss: 8.1923 - mae: 8.1923\n",
            "Epoch 27/100\n",
            "1/1 [==============================] - 0s 2ms/step - loss: 8.0598 - mae: 8.0598\n",
            "Epoch 28/100\n",
            "1/1 [==============================] - 0s 2ms/step - loss: 7.9273 - mae: 7.9273\n",
            "Epoch 29/100\n",
            "1/1 [==============================] - 0s 2ms/step - loss: 7.7948 - mae: 7.7948\n",
            "Epoch 30/100\n",
            "1/1 [==============================] - 0s 2ms/step - loss: 7.6623 - mae: 7.6623\n",
            "Epoch 31/100\n",
            "1/1 [==============================] - 0s 3ms/step - loss: 7.5298 - mae: 7.5298\n",
            "Epoch 32/100\n",
            "1/1 [==============================] - 0s 2ms/step - loss: 7.3973 - mae: 7.3973\n",
            "Epoch 33/100\n",
            "1/1 [==============================] - 0s 3ms/step - loss: 7.2648 - mae: 7.2648\n",
            "Epoch 34/100\n",
            "1/1 [==============================] - 0s 4ms/step - loss: 7.2525 - mae: 7.2525\n",
            "Epoch 35/100\n",
            "1/1 [==============================] - 0s 6ms/step - loss: 7.2469 - mae: 7.2469\n",
            "Epoch 36/100\n",
            "1/1 [==============================] - 0s 6ms/step - loss: 7.2413 - mae: 7.2413\n",
            "Epoch 37/100\n",
            "1/1 [==============================] - 0s 6ms/step - loss: 7.2356 - mae: 7.2356\n",
            "Epoch 38/100\n",
            "1/1 [==============================] - 0s 2ms/step - loss: 7.2300 - mae: 7.2300\n",
            "Epoch 39/100\n",
            "1/1 [==============================] - 0s 2ms/step - loss: 7.2244 - mae: 7.2244\n",
            "Epoch 40/100\n",
            "1/1 [==============================] - 0s 6ms/step - loss: 7.2188 - mae: 7.2188\n",
            "Epoch 41/100\n",
            "1/1 [==============================] - 0s 4ms/step - loss: 7.2131 - mae: 7.2131\n",
            "Epoch 42/100\n",
            "1/1 [==============================] - 0s 8ms/step - loss: 7.2075 - mae: 7.2075\n",
            "Epoch 43/100\n",
            "1/1 [==============================] - 0s 3ms/step - loss: 7.2019 - mae: 7.2019\n",
            "Epoch 44/100\n",
            "1/1 [==============================] - 0s 3ms/step - loss: 7.1962 - mae: 7.1962\n",
            "Epoch 45/100\n",
            "1/1 [==============================] - 0s 4ms/step - loss: 7.1906 - mae: 7.1906\n",
            "Epoch 46/100\n",
            "1/1 [==============================] - 0s 8ms/step - loss: 7.1850 - mae: 7.1850\n",
            "Epoch 47/100\n",
            "1/1 [==============================] - 0s 5ms/step - loss: 7.1794 - mae: 7.1794\n",
            "Epoch 48/100\n",
            "1/1 [==============================] - 0s 4ms/step - loss: 7.1738 - mae: 7.1738\n",
            "Epoch 49/100\n",
            "1/1 [==============================] - 0s 5ms/step - loss: 7.1681 - mae: 7.1681\n",
            "Epoch 50/100\n",
            "1/1 [==============================] - 0s 3ms/step - loss: 7.1625 - mae: 7.1625\n",
            "Epoch 51/100\n",
            "1/1 [==============================] - 0s 2ms/step - loss: 7.1569 - mae: 7.1569\n",
            "Epoch 52/100\n",
            "1/1 [==============================] - 0s 2ms/step - loss: 7.1512 - mae: 7.1512\n",
            "Epoch 53/100\n",
            "1/1 [==============================] - 0s 3ms/step - loss: 7.1456 - mae: 7.1456\n",
            "Epoch 54/100\n",
            "1/1 [==============================] - 0s 2ms/step - loss: 7.1400 - mae: 7.1400\n",
            "Epoch 55/100\n",
            "1/1 [==============================] - 0s 2ms/step - loss: 7.1344 - mae: 7.1344\n",
            "Epoch 56/100\n",
            "1/1 [==============================] - 0s 2ms/step - loss: 7.1287 - mae: 7.1287\n",
            "Epoch 57/100\n",
            "1/1 [==============================] - 0s 2ms/step - loss: 7.1231 - mae: 7.1231\n",
            "Epoch 58/100\n",
            "1/1 [==============================] - 0s 2ms/step - loss: 7.1175 - mae: 7.1175\n",
            "Epoch 59/100\n",
            "1/1 [==============================] - 0s 2ms/step - loss: 7.1119 - mae: 7.1119\n",
            "Epoch 60/100\n",
            "1/1 [==============================] - 0s 2ms/step - loss: 7.1063 - mae: 7.1063\n",
            "Epoch 61/100\n",
            "1/1 [==============================] - 0s 3ms/step - loss: 7.1006 - mae: 7.1006\n",
            "Epoch 62/100\n",
            "1/1 [==============================] - 0s 3ms/step - loss: 7.0950 - mae: 7.0950\n",
            "Epoch 63/100\n",
            "1/1 [==============================] - 0s 2ms/step - loss: 7.0894 - mae: 7.0894\n",
            "Epoch 64/100\n",
            "1/1 [==============================] - 0s 3ms/step - loss: 7.0838 - mae: 7.0838\n",
            "Epoch 65/100\n",
            "1/1 [==============================] - 0s 2ms/step - loss: 7.0781 - mae: 7.0781\n",
            "Epoch 66/100\n",
            "1/1 [==============================] - 0s 2ms/step - loss: 7.0725 - mae: 7.0725\n",
            "Epoch 67/100\n",
            "1/1 [==============================] - 0s 2ms/step - loss: 7.0669 - mae: 7.0669\n",
            "Epoch 68/100\n",
            "1/1 [==============================] - 0s 2ms/step - loss: 7.0613 - mae: 7.0613\n",
            "Epoch 69/100\n",
            "1/1 [==============================] - 0s 2ms/step - loss: 7.0556 - mae: 7.0556\n",
            "Epoch 70/100\n",
            "1/1 [==============================] - 0s 4ms/step - loss: 7.0500 - mae: 7.0500\n",
            "Epoch 71/100\n",
            "1/1 [==============================] - 0s 2ms/step - loss: 7.0444 - mae: 7.0444\n",
            "Epoch 72/100\n",
            "1/1 [==============================] - 0s 2ms/step - loss: 7.0388 - mae: 7.0388\n",
            "Epoch 73/100\n",
            "1/1 [==============================] - 0s 2ms/step - loss: 7.0331 - mae: 7.0331\n",
            "Epoch 74/100\n",
            "1/1 [==============================] - 0s 2ms/step - loss: 7.0275 - mae: 7.0275\n",
            "Epoch 75/100\n",
            "1/1 [==============================] - 0s 2ms/step - loss: 7.0219 - mae: 7.0219\n",
            "Epoch 76/100\n",
            "1/1 [==============================] - 0s 2ms/step - loss: 7.0163 - mae: 7.0163\n",
            "Epoch 77/100\n",
            "1/1 [==============================] - 0s 2ms/step - loss: 7.0106 - mae: 7.0106\n",
            "Epoch 78/100\n",
            "1/1 [==============================] - 0s 2ms/step - loss: 7.0050 - mae: 7.0050\n",
            "Epoch 79/100\n",
            "1/1 [==============================] - 0s 3ms/step - loss: 6.9994 - mae: 6.9994\n",
            "Epoch 80/100\n",
            "1/1 [==============================] - 0s 2ms/step - loss: 6.9938 - mae: 6.9938\n",
            "Epoch 81/100\n",
            "1/1 [==============================] - 0s 2ms/step - loss: 6.9881 - mae: 6.9881\n",
            "Epoch 82/100\n",
            "1/1 [==============================] - 0s 2ms/step - loss: 6.9825 - mae: 6.9825\n",
            "Epoch 83/100\n",
            "1/1 [==============================] - 0s 3ms/step - loss: 6.9769 - mae: 6.9769\n",
            "Epoch 84/100\n",
            "1/1 [==============================] - 0s 2ms/step - loss: 6.9713 - mae: 6.9713\n",
            "Epoch 85/100\n",
            "1/1 [==============================] - 0s 2ms/step - loss: 6.9656 - mae: 6.9656\n",
            "Epoch 86/100\n",
            "1/1 [==============================] - 0s 2ms/step - loss: 6.9600 - mae: 6.9600\n",
            "Epoch 87/100\n",
            "1/1 [==============================] - 0s 2ms/step - loss: 6.9544 - mae: 6.9544\n",
            "Epoch 88/100\n",
            "1/1 [==============================] - 0s 2ms/step - loss: 6.9488 - mae: 6.9488\n",
            "Epoch 89/100\n",
            "1/1 [==============================] - 0s 2ms/step - loss: 6.9431 - mae: 6.9431\n",
            "Epoch 90/100\n",
            "1/1 [==============================] - 0s 3ms/step - loss: 6.9375 - mae: 6.9375\n",
            "Epoch 91/100\n",
            "1/1 [==============================] - 0s 2ms/step - loss: 6.9319 - mae: 6.9319\n",
            "Epoch 92/100\n",
            "1/1 [==============================] - 0s 2ms/step - loss: 6.9263 - mae: 6.9263\n",
            "Epoch 93/100\n",
            "1/1 [==============================] - 0s 2ms/step - loss: 6.9206 - mae: 6.9206\n",
            "Epoch 94/100\n",
            "1/1 [==============================] - 0s 2ms/step - loss: 6.9150 - mae: 6.9150\n",
            "Epoch 95/100\n",
            "1/1 [==============================] - 0s 2ms/step - loss: 6.9094 - mae: 6.9094\n",
            "Epoch 96/100\n",
            "1/1 [==============================] - 0s 2ms/step - loss: 6.9038 - mae: 6.9038\n",
            "Epoch 97/100\n",
            "1/1 [==============================] - 0s 2ms/step - loss: 6.8981 - mae: 6.8981\n",
            "Epoch 98/100\n",
            "1/1 [==============================] - 0s 2ms/step - loss: 6.8925 - mae: 6.8925\n",
            "Epoch 99/100\n",
            "1/1 [==============================] - 0s 2ms/step - loss: 6.8869 - mae: 6.8869\n",
            "Epoch 100/100\n",
            "1/1 [==============================] - 0s 3ms/step - loss: 6.8813 - mae: 6.8813\n"
          ],
          "name": "stdout"
        },
        {
          "output_type": "execute_result",
          "data": {
            "text/plain": [
              "<tensorflow.python.keras.callbacks.History at 0x1b6861cb760>"
            ]
          },
          "metadata": {
            "tags": []
          },
          "execution_count": 174
        }
      ]
    },
    {
      "cell_type": "code",
      "metadata": {
        "colab": {
          "base_uri": "https://localhost:8080/"
        },
        "id": "IVYHImjtjkby",
        "outputId": "937f3be1-8f25-4658-9a23-d5f32a78a0bb"
      },
      "source": [
        "# Remind ourselves of the data\n",
        "X, y"
      ],
      "execution_count": 175,
      "outputs": [
        {
          "output_type": "execute_result",
          "data": {
            "text/plain": [
              "(<tf.Tensor: shape=(8,), dtype=float64, numpy=array([-7., -4., -1.,  2.,  5.,  8., 11., 14.])>,\n",
              " <tf.Tensor: shape=(8,), dtype=float64, numpy=array([ 3.,  6.,  9., 12., 15., 18., 21., 24.])>)"
            ]
          },
          "metadata": {
            "tags": []
          },
          "execution_count": 175
        }
      ]
    },
    {
      "cell_type": "code",
      "metadata": {
        "colab": {
          "base_uri": "https://localhost:8080/"
        },
        "id": "zsgB-8Hij6eJ",
        "outputId": "03c693b4-7d0c-4607-8df4-2cd6d7fe67b8"
      },
      "source": [
        "# Lets see if our model's prediction has improved\n",
        "model.predict([17.0])"
      ],
      "execution_count": 176,
      "outputs": [
        {
          "output_type": "execute_result",
          "data": {
            "text/plain": [
              "array([[30.158512]], dtype=float32)"
            ]
          },
          "metadata": {
            "tags": []
          },
          "execution_count": 176
        }
      ]
    },
    {
      "cell_type": "code",
      "metadata": {
        "colab": {
          "base_uri": "https://localhost:8080/"
        },
        "id": "dLHFYvRBkBl8",
        "outputId": "923886fa-68c0-4f9e-9288-f66a0f0a7cfd"
      },
      "source": [
        "# lets see what we can do to improve it futher\n",
        "\n",
        "# 1. create the model ( this time with an extra hidden layer with 100 hidden units )\n",
        "model = tf.keras.Sequential([\n",
        "                             tf.keras.layers.Dense(100, activation = \"relu\"),\n",
        "                            tf.keras.layers.Dense(1)\n",
        "])\n",
        "\n",
        "# 2 . compiling the model \n",
        "model.compile(optimizer = tf.keras.optimizers.SGD(),\n",
        "              loss = tf.keras.losses.mae,\n",
        "              metrics = [\"mae\"])\n",
        "\n",
        "# 3. fitting the model\n",
        "model.fit(X, y, epochs = 100)"
      ],
      "execution_count": 177,
      "outputs": [
        {
          "output_type": "stream",
          "text": [
            "Epoch 1/100\n",
            "1/1 [==============================] - 0s 236ms/step - loss: 13.9468 - mae: 13.9468\n",
            "Epoch 2/100\n",
            "1/1 [==============================] - 0s 2ms/step - loss: 13.2859 - mae: 13.2859\n",
            "Epoch 3/100\n",
            "1/1 [==============================] - 0s 2ms/step - loss: 12.6279 - mae: 12.6279\n",
            "Epoch 4/100\n",
            "1/1 [==============================] - 0s 3ms/step - loss: 11.9702 - mae: 11.9702\n",
            "Epoch 5/100\n",
            "1/1 [==============================] - 0s 2ms/step - loss: 11.3044 - mae: 11.3044\n",
            "Epoch 6/100\n",
            "1/1 [==============================] - 0s 2ms/step - loss: 10.6244 - mae: 10.6244\n",
            "Epoch 7/100\n",
            "1/1 [==============================] - 0s 2ms/step - loss: 9.9248 - mae: 9.9248\n",
            "Epoch 8/100\n",
            "1/1 [==============================] - 0s 3ms/step - loss: 9.1949 - mae: 9.1949\n",
            "Epoch 9/100\n",
            "1/1 [==============================] - 0s 3ms/step - loss: 8.4303 - mae: 8.4303\n",
            "Epoch 10/100\n",
            "1/1 [==============================] - 0s 3ms/step - loss: 7.6245 - mae: 7.6245\n",
            "Epoch 11/100\n",
            "1/1 [==============================] - 0s 2ms/step - loss: 6.7723 - mae: 6.7723\n",
            "Epoch 12/100\n",
            "1/1 [==============================] - 0s 3ms/step - loss: 5.8960 - mae: 5.8960\n",
            "Epoch 13/100\n",
            "1/1 [==============================] - 0s 3ms/step - loss: 4.9754 - mae: 4.9754\n",
            "Epoch 14/100\n",
            "1/1 [==============================] - 0s 3ms/step - loss: 4.1323 - mae: 4.1323\n",
            "Epoch 15/100\n",
            "1/1 [==============================] - 0s 2ms/step - loss: 4.0312 - mae: 4.0312\n",
            "Epoch 16/100\n",
            "1/1 [==============================] - 0s 2ms/step - loss: 3.9276 - mae: 3.9276\n",
            "Epoch 17/100\n",
            "1/1 [==============================] - 0s 2ms/step - loss: 3.9605 - mae: 3.9605\n",
            "Epoch 18/100\n",
            "1/1 [==============================] - 0s 3ms/step - loss: 3.9073 - mae: 3.9073\n",
            "Epoch 19/100\n",
            "1/1 [==============================] - 0s 3ms/step - loss: 3.9714 - mae: 3.9714\n",
            "Epoch 20/100\n",
            "1/1 [==============================] - 0s 2ms/step - loss: 3.8999 - mae: 3.8999\n",
            "Epoch 21/100\n",
            "1/1 [==============================] - 0s 2ms/step - loss: 3.9595 - mae: 3.9595\n",
            "Epoch 22/100\n",
            "1/1 [==============================] - 0s 4ms/step - loss: 3.9079 - mae: 3.9079\n",
            "Epoch 23/100\n",
            "1/1 [==============================] - 0s 3ms/step - loss: 3.9333 - mae: 3.9333\n",
            "Epoch 24/100\n",
            "1/1 [==============================] - 0s 2ms/step - loss: 3.9160 - mae: 3.9160\n",
            "Epoch 25/100\n",
            "1/1 [==============================] - 0s 2ms/step - loss: 3.9096 - mae: 3.9096\n",
            "Epoch 26/100\n",
            "1/1 [==============================] - 0s 3ms/step - loss: 3.9309 - mae: 3.9309\n",
            "Epoch 27/100\n",
            "1/1 [==============================] - 0s 3ms/step - loss: 3.8864 - mae: 3.8864\n",
            "Epoch 28/100\n",
            "1/1 [==============================] - 0s 3ms/step - loss: 3.9391 - mae: 3.9391\n",
            "Epoch 29/100\n",
            "1/1 [==============================] - 0s 2ms/step - loss: 3.8681 - mae: 3.8681\n",
            "Epoch 30/100\n",
            "1/1 [==============================] - 0s 2ms/step - loss: 3.9381 - mae: 3.9381\n",
            "Epoch 31/100\n",
            "1/1 [==============================] - 0s 3ms/step - loss: 3.8763 - mae: 3.8763\n",
            "Epoch 32/100\n",
            "1/1 [==============================] - 0s 2ms/step - loss: 3.9117 - mae: 3.9117\n",
            "Epoch 33/100\n",
            "1/1 [==============================] - 0s 2ms/step - loss: 3.8854 - mae: 3.8854\n",
            "Epoch 34/100\n",
            "1/1 [==============================] - 0s 3ms/step - loss: 3.8910 - mae: 3.8910\n",
            "Epoch 35/100\n",
            "1/1 [==============================] - 0s 3ms/step - loss: 3.8996 - mae: 3.8996\n",
            "Epoch 36/100\n",
            "1/1 [==============================] - 0s 2ms/step - loss: 3.8641 - mae: 3.8641\n",
            "Epoch 37/100\n",
            "1/1 [==============================] - 0s 2ms/step - loss: 3.9080 - mae: 3.9080\n",
            "Epoch 38/100\n",
            "1/1 [==============================] - 0s 2ms/step - loss: 3.8374 - mae: 3.8374\n",
            "Epoch 39/100\n",
            "1/1 [==============================] - 0s 2ms/step - loss: 3.9154 - mae: 3.9154\n",
            "Epoch 40/100\n",
            "1/1 [==============================] - 0s 2ms/step - loss: 3.8459 - mae: 3.8459\n",
            "Epoch 41/100\n",
            "1/1 [==============================] - 0s 2ms/step - loss: 3.8888 - mae: 3.8888\n",
            "Epoch 42/100\n",
            "1/1 [==============================] - 0s 3ms/step - loss: 3.8594 - mae: 3.8594\n",
            "Epoch 43/100\n",
            "1/1 [==============================] - 0s 2ms/step - loss: 3.8678 - mae: 3.8678\n",
            "Epoch 44/100\n",
            "1/1 [==============================] - 0s 3ms/step - loss: 3.8695 - mae: 3.8695\n",
            "Epoch 45/100\n",
            "1/1 [==============================] - 0s 2ms/step - loss: 3.8407 - mae: 3.8407\n",
            "Epoch 46/100\n",
            "1/1 [==============================] - 0s 3ms/step - loss: 3.8782 - mae: 3.8782\n",
            "Epoch 47/100\n",
            "1/1 [==============================] - 0s 2ms/step - loss: 3.8134 - mae: 3.8134\n",
            "Epoch 48/100\n",
            "1/1 [==============================] - 0s 2ms/step - loss: 3.8870 - mae: 3.8870\n",
            "Epoch 49/100\n",
            "1/1 [==============================] - 0s 3ms/step - loss: 3.8165 - mae: 3.8165\n",
            "Epoch 50/100\n",
            "1/1 [==============================] - 0s 2ms/step - loss: 3.8678 - mae: 3.8678\n",
            "Epoch 51/100\n",
            "1/1 [==============================] - 0s 3ms/step - loss: 3.8318 - mae: 3.8318\n",
            "Epoch 52/100\n",
            "1/1 [==============================] - 0s 2ms/step - loss: 3.8433 - mae: 3.8433\n",
            "Epoch 53/100\n",
            "1/1 [==============================] - 0s 3ms/step - loss: 3.8405 - mae: 3.8405\n",
            "Epoch 54/100\n",
            "1/1 [==============================] - 0s 2ms/step - loss: 3.8159 - mae: 3.8159\n",
            "Epoch 55/100\n",
            "1/1 [==============================] - 0s 2ms/step - loss: 3.8494 - mae: 3.8494\n",
            "Epoch 56/100\n",
            "1/1 [==============================] - 0s 2ms/step - loss: 3.7884 - mae: 3.7884\n",
            "Epoch 57/100\n",
            "1/1 [==============================] - 0s 2ms/step - loss: 3.8585 - mae: 3.8585\n",
            "Epoch 58/100\n",
            "1/1 [==============================] - 0s 2ms/step - loss: 3.7889 - mae: 3.7889\n",
            "Epoch 59/100\n",
            "1/1 [==============================] - 0s 2ms/step - loss: 3.8451 - mae: 3.8451\n",
            "Epoch 60/100\n",
            "1/1 [==============================] - 0s 3ms/step - loss: 3.8037 - mae: 3.8037\n",
            "Epoch 61/100\n",
            "1/1 [==============================] - 0s 2ms/step - loss: 3.8175 - mae: 3.8175\n",
            "Epoch 62/100\n",
            "1/1 [==============================] - 0s 3ms/step - loss: 3.8126 - mae: 3.8126\n",
            "Epoch 63/100\n",
            "1/1 [==============================] - 0s 3ms/step - loss: 3.7899 - mae: 3.7899\n",
            "Epoch 64/100\n",
            "1/1 [==============================] - 0s 2ms/step - loss: 3.8218 - mae: 3.8218\n",
            "Epoch 65/100\n",
            "1/1 [==============================] - 0s 3ms/step - loss: 3.7622 - mae: 3.7622\n",
            "Epoch 66/100\n",
            "1/1 [==============================] - 0s 3ms/step - loss: 3.8311 - mae: 3.8311\n",
            "Epoch 67/100\n",
            "1/1 [==============================] - 0s 3ms/step - loss: 3.7651 - mae: 3.7651\n",
            "Epoch 68/100\n",
            "1/1 [==============================] - 0s 2ms/step - loss: 3.8185 - mae: 3.8185\n",
            "Epoch 69/100\n",
            "1/1 [==============================] - 0s 3ms/step - loss: 3.7766 - mae: 3.7766\n",
            "Epoch 70/100\n",
            "1/1 [==============================] - 0s 3ms/step - loss: 3.7906 - mae: 3.7906\n",
            "Epoch 71/100\n",
            "1/1 [==============================] - 0s 2ms/step - loss: 3.7858 - mae: 3.7858\n",
            "Epoch 72/100\n",
            "1/1 [==============================] - 0s 3ms/step - loss: 3.7627 - mae: 3.7627\n",
            "Epoch 73/100\n",
            "1/1 [==============================] - 0s 3ms/step - loss: 3.7952 - mae: 3.7952\n",
            "Epoch 74/100\n",
            "1/1 [==============================] - 0s 3ms/step - loss: 3.7347 - mae: 3.7347\n",
            "Epoch 75/100\n",
            "1/1 [==============================] - 0s 2ms/step - loss: 3.8055 - mae: 3.8055\n",
            "Epoch 76/100\n",
            "1/1 [==============================] - 0s 2ms/step - loss: 3.7414 - mae: 3.7414\n",
            "Epoch 77/100\n",
            "1/1 [==============================] - 0s 3ms/step - loss: 3.7906 - mae: 3.7906\n",
            "Epoch 78/100\n",
            "1/1 [==============================] - 0s 2ms/step - loss: 3.7506 - mae: 3.7506\n",
            "Epoch 79/100\n",
            "1/1 [==============================] - 0s 3ms/step - loss: 3.7624 - mae: 3.7624\n",
            "Epoch 80/100\n",
            "1/1 [==============================] - 0s 3ms/step - loss: 3.7599 - mae: 3.7599\n",
            "Epoch 81/100\n",
            "1/1 [==============================] - 0s 2ms/step - loss: 3.7342 - mae: 3.7342\n",
            "Epoch 82/100\n",
            "1/1 [==============================] - 0s 2ms/step - loss: 3.7696 - mae: 3.7696\n",
            "Epoch 83/100\n",
            "1/1 [==============================] - 0s 4ms/step - loss: 3.7059 - mae: 3.7059\n",
            "Epoch 84/100\n",
            "1/1 [==============================] - 0s 2ms/step - loss: 3.7833 - mae: 3.7833\n",
            "Epoch 85/100\n",
            "1/1 [==============================] - 0s 3ms/step - loss: 3.7162 - mae: 3.7162\n",
            "Epoch 86/100\n",
            "1/1 [==============================] - 0s 2ms/step - loss: 3.7614 - mae: 3.7614\n",
            "Epoch 87/100\n",
            "1/1 [==============================] - 0s 3ms/step - loss: 3.7255 - mae: 3.7255\n",
            "Epoch 88/100\n",
            "1/1 [==============================] - 0s 2ms/step - loss: 3.7328 - mae: 3.7328\n",
            "Epoch 89/100\n",
            "1/1 [==============================] - 0s 3ms/step - loss: 3.7351 - mae: 3.7351\n",
            "Epoch 90/100\n",
            "1/1 [==============================] - 0s 2ms/step - loss: 3.7044 - mae: 3.7044\n",
            "Epoch 91/100\n",
            "1/1 [==============================] - 0s 2ms/step - loss: 3.7449 - mae: 3.7449\n",
            "Epoch 92/100\n",
            "1/1 [==============================] - 0s 3ms/step - loss: 3.6776 - mae: 3.6776\n",
            "Epoch 93/100\n",
            "1/1 [==============================] - 0s 3ms/step - loss: 3.7594 - mae: 3.7594\n",
            "Epoch 94/100\n",
            "1/1 [==============================] - 0s 3ms/step - loss: 3.6919 - mae: 3.6919\n",
            "Epoch 95/100\n",
            "1/1 [==============================] - 0s 2ms/step - loss: 3.7307 - mae: 3.7307\n",
            "Epoch 96/100\n",
            "1/1 [==============================] - 0s 2ms/step - loss: 3.7015 - mae: 3.7015\n",
            "Epoch 97/100\n",
            "1/1 [==============================] - 0s 2ms/step - loss: 3.7019 - mae: 3.7019\n",
            "Epoch 98/100\n",
            "1/1 [==============================] - 0s 2ms/step - loss: 3.7114 - mae: 3.7114\n",
            "Epoch 99/100\n",
            "1/1 [==============================] - 0s 2ms/step - loss: 3.6731 - mae: 3.6731\n",
            "Epoch 100/100\n",
            "1/1 [==============================] - 0s 3ms/step - loss: 3.7214 - mae: 3.7214\n"
          ],
          "name": "stdout"
        },
        {
          "output_type": "execute_result",
          "data": {
            "text/plain": [
              "<tensorflow.python.keras.callbacks.History at 0x1b68711b6d0>"
            ]
          },
          "metadata": {
            "tags": []
          },
          "execution_count": 177
        }
      ]
    },
    {
      "cell_type": "code",
      "metadata": {
        "colab": {
          "base_uri": "https://localhost:8080/"
        },
        "id": "5wioYIP7mEsA",
        "outputId": "e3071d2a-1e31-4fac-91d5-4c427dd82aff"
      },
      "source": [
        "model.predict([17.0])"
      ],
      "execution_count": 178,
      "outputs": [
        {
          "output_type": "execute_result",
          "data": {
            "text/plain": [
              "array([[31.941301]], dtype=float32)"
            ]
          },
          "metadata": {
            "tags": []
          },
          "execution_count": 178
        }
      ]
    },
    {
      "cell_type": "code",
      "metadata": {
        "colab": {
          "base_uri": "https://localhost:8080/"
        },
        "id": "WA-zrhjMnX_f",
        "outputId": "db8d51e7-e41c-4e76-fdd5-feaff5df0fa6"
      },
      "source": [
        "# lets see what we can do to improve it futher\n",
        "\n",
        "# 1. create the model ( this time with an extra hidden layer with 100 hidden units )\n",
        "model = tf.keras.Sequential([\n",
        "                             tf.keras.layers.Dense(50, activation = None),\n",
        "                            tf.keras.layers.Dense(1)\n",
        "])\n",
        "\n",
        "# 2 . compiling the model \n",
        "model.compile(optimizer = tf.keras.optimizers.Adam(learning_rate= 0.01),\n",
        "              loss = tf.keras.losses.mae,\n",
        "              metrics = [\"mae\"])\n",
        "\n",
        "# 3. fitting the model\n",
        "model.fit(X, y, epochs = 100)"
      ],
      "execution_count": 179,
      "outputs": [
        {
          "output_type": "stream",
          "text": [
            "Epoch 1/100\n",
            "1/1 [==============================] - 0s 271ms/step - loss: 14.2261 - mae: 14.2261\n",
            "Epoch 2/100\n",
            "1/1 [==============================] - 0s 3ms/step - loss: 13.5327 - mae: 13.5327\n",
            "Epoch 3/100\n",
            "1/1 [==============================] - 0s 3ms/step - loss: 12.8450 - mae: 12.8450\n",
            "Epoch 4/100\n",
            "1/1 [==============================] - 0s 2ms/step - loss: 12.1610 - mae: 12.1610\n",
            "Epoch 5/100\n",
            "1/1 [==============================] - 0s 2ms/step - loss: 11.4786 - mae: 11.4786\n",
            "Epoch 6/100\n",
            "1/1 [==============================] - 0s 2ms/step - loss: 10.7952 - mae: 10.7952\n",
            "Epoch 7/100\n",
            "1/1 [==============================] - 0s 3ms/step - loss: 10.1084 - mae: 10.1084\n",
            "Epoch 8/100\n",
            "1/1 [==============================] - 0s 3ms/step - loss: 9.4153 - mae: 9.4153\n",
            "Epoch 9/100\n",
            "1/1 [==============================] - 0s 2ms/step - loss: 8.7133 - mae: 8.7133\n",
            "Epoch 10/100\n",
            "1/1 [==============================] - 0s 3ms/step - loss: 7.9998 - mae: 7.9998\n",
            "Epoch 11/100\n",
            "1/1 [==============================] - 0s 2ms/step - loss: 7.2723 - mae: 7.2723\n",
            "Epoch 12/100\n",
            "1/1 [==============================] - 0s 2ms/step - loss: 6.6391 - mae: 6.6391\n",
            "Epoch 13/100\n",
            "1/1 [==============================] - 0s 3ms/step - loss: 6.6432 - mae: 6.6432\n",
            "Epoch 14/100\n",
            "1/1 [==============================] - 0s 3ms/step - loss: 6.9209 - mae: 6.9209\n",
            "Epoch 15/100\n",
            "1/1 [==============================] - 0s 3ms/step - loss: 7.0981 - mae: 7.0981\n",
            "Epoch 16/100\n",
            "1/1 [==============================] - 0s 2ms/step - loss: 7.2571 - mae: 7.2571\n",
            "Epoch 17/100\n",
            "1/1 [==============================] - 0s 2ms/step - loss: 7.2612 - mae: 7.2612\n",
            "Epoch 18/100\n",
            "1/1 [==============================] - 0s 2ms/step - loss: 7.1038 - mae: 7.1038\n",
            "Epoch 19/100\n",
            "1/1 [==============================] - 0s 3ms/step - loss: 6.8542 - mae: 6.8542\n",
            "Epoch 20/100\n",
            "1/1 [==============================] - 0s 3ms/step - loss: 6.6416 - mae: 6.6416\n",
            "Epoch 21/100\n",
            "1/1 [==============================] - 0s 2ms/step - loss: 6.4074 - mae: 6.4074\n",
            "Epoch 22/100\n",
            "1/1 [==============================] - 0s 2ms/step - loss: 6.1557 - mae: 6.1557\n",
            "Epoch 23/100\n",
            "1/1 [==============================] - 0s 2ms/step - loss: 5.9512 - mae: 5.9512\n",
            "Epoch 24/100\n",
            "1/1 [==============================] - 0s 3ms/step - loss: 5.9037 - mae: 5.9037\n",
            "Epoch 25/100\n",
            "1/1 [==============================] - 0s 2ms/step - loss: 5.8553 - mae: 5.8553\n",
            "Epoch 26/100\n",
            "1/1 [==============================] - 0s 3ms/step - loss: 5.9015 - mae: 5.9015\n",
            "Epoch 27/100\n",
            "1/1 [==============================] - 0s 2ms/step - loss: 5.8472 - mae: 5.8472\n",
            "Epoch 28/100\n",
            "1/1 [==============================] - 0s 2ms/step - loss: 5.7048 - mae: 5.7048\n",
            "Epoch 29/100\n",
            "1/1 [==============================] - 0s 2ms/step - loss: 5.5259 - mae: 5.5259\n",
            "Epoch 30/100\n",
            "1/1 [==============================] - 0s 3ms/step - loss: 5.4255 - mae: 5.4255\n",
            "Epoch 31/100\n",
            "1/1 [==============================] - 0s 3ms/step - loss: 5.3213 - mae: 5.3213\n",
            "Epoch 32/100\n",
            "1/1 [==============================] - 0s 2ms/step - loss: 5.2131 - mae: 5.2131\n",
            "Epoch 33/100\n",
            "1/1 [==============================] - 0s 3ms/step - loss: 5.1472 - mae: 5.1472\n",
            "Epoch 34/100\n",
            "1/1 [==============================] - 0s 3ms/step - loss: 5.0909 - mae: 5.0909\n",
            "Epoch 35/100\n",
            "1/1 [==============================] - 0s 3ms/step - loss: 4.9926 - mae: 4.9926\n",
            "Epoch 36/100\n",
            "1/1 [==============================] - 0s 2ms/step - loss: 4.8552 - mae: 4.8552\n",
            "Epoch 37/100\n",
            "1/1 [==============================] - 0s 2ms/step - loss: 4.6821 - mae: 4.6821\n",
            "Epoch 38/100\n",
            "1/1 [==============================] - 0s 2ms/step - loss: 4.5740 - mae: 4.5740\n",
            "Epoch 39/100\n",
            "1/1 [==============================] - 0s 3ms/step - loss: 4.4584 - mae: 4.4584\n",
            "Epoch 40/100\n",
            "1/1 [==============================] - 0s 2ms/step - loss: 4.3351 - mae: 4.3351\n",
            "Epoch 41/100\n",
            "1/1 [==============================] - 0s 2ms/step - loss: 4.2039 - mae: 4.2039\n",
            "Epoch 42/100\n",
            "1/1 [==============================] - 0s 3ms/step - loss: 4.0647 - mae: 4.0647\n",
            "Epoch 43/100\n",
            "1/1 [==============================] - 0s 2ms/step - loss: 3.9171 - mae: 3.9171\n",
            "Epoch 44/100\n",
            "1/1 [==============================] - 0s 2ms/step - loss: 3.7610 - mae: 3.7610\n",
            "Epoch 45/100\n",
            "1/1 [==============================] - 0s 2ms/step - loss: 3.5961 - mae: 3.5961\n",
            "Epoch 46/100\n",
            "1/1 [==============================] - 0s 2ms/step - loss: 3.4221 - mae: 3.4221\n",
            "Epoch 47/100\n",
            "1/1 [==============================] - 0s 2ms/step - loss: 3.2387 - mae: 3.2387\n",
            "Epoch 48/100\n",
            "1/1 [==============================] - 0s 2ms/step - loss: 3.0457 - mae: 3.0457\n",
            "Epoch 49/100\n",
            "1/1 [==============================] - 0s 2ms/step - loss: 2.8428 - mae: 2.8428\n",
            "Epoch 50/100\n",
            "1/1 [==============================] - 0s 4ms/step - loss: 2.6857 - mae: 2.6857\n",
            "Epoch 51/100\n",
            "1/1 [==============================] - 0s 3ms/step - loss: 2.4548 - mae: 2.4548\n",
            "Epoch 52/100\n",
            "1/1 [==============================] - 0s 3ms/step - loss: 2.2067 - mae: 2.2067\n",
            "Epoch 53/100\n",
            "1/1 [==============================] - 0s 2ms/step - loss: 1.9828 - mae: 1.9828\n",
            "Epoch 54/100\n",
            "1/1 [==============================] - 0s 2ms/step - loss: 1.8203 - mae: 1.8203\n",
            "Epoch 55/100\n",
            "1/1 [==============================] - 0s 2ms/step - loss: 1.4857 - mae: 1.4857\n",
            "Epoch 56/100\n",
            "1/1 [==============================] - 0s 3ms/step - loss: 1.2131 - mae: 1.2131\n",
            "Epoch 57/100\n",
            "1/1 [==============================] - 0s 2ms/step - loss: 0.9994 - mae: 0.9994\n",
            "Epoch 58/100\n",
            "1/1 [==============================] - 0s 2ms/step - loss: 0.7101 - mae: 0.7101\n",
            "Epoch 59/100\n",
            "1/1 [==============================] - 0s 2ms/step - loss: 0.3593 - mae: 0.3593\n",
            "Epoch 60/100\n",
            "1/1 [==============================] - 0s 2ms/step - loss: 0.1119 - mae: 0.1119\n",
            "Epoch 61/100\n",
            "1/1 [==============================] - 0s 3ms/step - loss: 0.3994 - mae: 0.3994\n",
            "Epoch 62/100\n",
            "1/1 [==============================] - 0s 3ms/step - loss: 0.5248 - mae: 0.5248\n",
            "Epoch 63/100\n",
            "1/1 [==============================] - 0s 2ms/step - loss: 0.8003 - mae: 0.8003\n",
            "Epoch 64/100\n",
            "1/1 [==============================] - 0s 2ms/step - loss: 0.9111 - mae: 0.9111\n",
            "Epoch 65/100\n",
            "1/1 [==============================] - 0s 3ms/step - loss: 0.8892 - mae: 0.8892\n",
            "Epoch 66/100\n",
            "1/1 [==============================] - 0s 2ms/step - loss: 0.9457 - mae: 0.9457\n",
            "Epoch 67/100\n",
            "1/1 [==============================] - 0s 2ms/step - loss: 0.8913 - mae: 0.8913\n",
            "Epoch 68/100\n",
            "1/1 [==============================] - 0s 3ms/step - loss: 0.8768 - mae: 0.8768\n",
            "Epoch 69/100\n",
            "1/1 [==============================] - 0s 2ms/step - loss: 0.7507 - mae: 0.7507\n",
            "Epoch 70/100\n",
            "1/1 [==============================] - 0s 2ms/step - loss: 0.6897 - mae: 0.6897\n",
            "Epoch 71/100\n",
            "1/1 [==============================] - 0s 2ms/step - loss: 0.5674 - mae: 0.5674\n",
            "Epoch 72/100\n",
            "1/1 [==============================] - 0s 2ms/step - loss: 0.3382 - mae: 0.3382\n",
            "Epoch 73/100\n",
            "1/1 [==============================] - 0s 2ms/step - loss: 0.1771 - mae: 0.1771\n",
            "Epoch 74/100\n",
            "1/1 [==============================] - 0s 2ms/step - loss: 0.1845 - mae: 0.1845\n",
            "Epoch 75/100\n",
            "1/1 [==============================] - 0s 2ms/step - loss: 0.2042 - mae: 0.2042\n",
            "Epoch 76/100\n",
            "1/1 [==============================] - 0s 3ms/step - loss: 0.4885 - mae: 0.4885\n",
            "Epoch 77/100\n",
            "1/1 [==============================] - 0s 3ms/step - loss: 0.5455 - mae: 0.5455\n",
            "Epoch 78/100\n",
            "1/1 [==============================] - 0s 3ms/step - loss: 0.4444 - mae: 0.4444\n",
            "Epoch 79/100\n",
            "1/1 [==============================] - 0s 3ms/step - loss: 0.5706 - mae: 0.5706\n",
            "Epoch 80/100\n",
            "1/1 [==============================] - 0s 3ms/step - loss: 0.6050 - mae: 0.6050\n",
            "Epoch 81/100\n",
            "1/1 [==============================] - 0s 2ms/step - loss: 0.4779 - mae: 0.4779\n",
            "Epoch 82/100\n",
            "1/1 [==============================] - 0s 3ms/step - loss: 0.3399 - mae: 0.3399\n",
            "Epoch 83/100\n",
            "1/1 [==============================] - 0s 3ms/step - loss: 0.3068 - mae: 0.3068\n",
            "Epoch 84/100\n",
            "1/1 [==============================] - 0s 2ms/step - loss: 0.1018 - mae: 0.1018\n",
            "Epoch 85/100\n",
            "1/1 [==============================] - 0s 2ms/step - loss: 0.2649 - mae: 0.2649\n",
            "Epoch 86/100\n",
            "1/1 [==============================] - 0s 2ms/step - loss: 0.2373 - mae: 0.2373\n",
            "Epoch 87/100\n",
            "1/1 [==============================] - 0s 3ms/step - loss: 0.3403 - mae: 0.3403\n",
            "Epoch 88/100\n",
            "1/1 [==============================] - 0s 2ms/step - loss: 0.4552 - mae: 0.4552\n",
            "Epoch 89/100\n",
            "1/1 [==============================] - 0s 2ms/step - loss: 0.3950 - mae: 0.3950\n",
            "Epoch 90/100\n",
            "1/1 [==============================] - 0s 2ms/step - loss: 0.2212 - mae: 0.2212\n",
            "Epoch 91/100\n",
            "1/1 [==============================] - 0s 3ms/step - loss: 0.2633 - mae: 0.2633\n",
            "Epoch 92/100\n",
            "1/1 [==============================] - 0s 2ms/step - loss: 0.0835 - mae: 0.0835\n",
            "Epoch 93/100\n",
            "1/1 [==============================] - 0s 2ms/step - loss: 0.2380 - mae: 0.2380\n",
            "Epoch 94/100\n",
            "1/1 [==============================] - 0s 2ms/step - loss: 0.1929 - mae: 0.1929\n",
            "Epoch 95/100\n",
            "1/1 [==============================] - 0s 2ms/step - loss: 0.2698 - mae: 0.2698\n",
            "Epoch 96/100\n",
            "1/1 [==============================] - 0s 3ms/step - loss: 0.3600 - mae: 0.3600\n",
            "Epoch 97/100\n",
            "1/1 [==============================] - 0s 2ms/step - loss: 0.2942 - mae: 0.2942\n",
            "Epoch 98/100\n",
            "1/1 [==============================] - 0s 2ms/step - loss: 0.1065 - mae: 0.1065\n",
            "Epoch 99/100\n",
            "1/1 [==============================] - 0s 2ms/step - loss: 0.1596 - mae: 0.1596\n",
            "Epoch 100/100\n",
            "1/1 [==============================] - 0s 3ms/step - loss: 0.0556 - mae: 0.0556\n"
          ],
          "name": "stdout"
        },
        {
          "output_type": "execute_result",
          "data": {
            "text/plain": [
              "<tensorflow.python.keras.callbacks.History at 0x1b6873dd8b0>"
            ]
          },
          "metadata": {
            "tags": []
          },
          "execution_count": 179
        }
      ]
    },
    {
      "cell_type": "code",
      "metadata": {
        "colab": {
          "base_uri": "https://localhost:8080/"
        },
        "id": "fj_IU1RxfVeO",
        "outputId": "3087da8f-2908-4443-dabf-82cda245e0f5"
      },
      "source": [
        "model.predict([17.0])"
      ],
      "execution_count": 180,
      "outputs": [
        {
          "output_type": "execute_result",
          "data": {
            "text/plain": [
              "array([[27.13871]], dtype=float32)"
            ]
          },
          "metadata": {
            "tags": []
          },
          "execution_count": 180
        }
      ]
    },
    {
      "cell_type": "markdown",
      "metadata": {
        "id": "40Np6tk1fgfi"
      },
      "source": [
        "## Evaluating a model\n",
        "\n",
        "In practice, a typical workflow you will go through when building neural network is:\n",
        "\n",
        "build the model -> fit it -> evaluate it and start again"
      ]
    },
    {
      "cell_type": "markdown",
      "metadata": {
        "id": "Z5SEHJAWgdjF"
      },
      "source": [
        "when it comes to evaluation ... there are 3 words you should memorize:\n",
        "\n",
        " > \"Visualize, visualize, visualize\"\n",
        "\n",
        "Its a good idea to visualize:\n",
        "* the data - what data are we working with? what does it look like?\n",
        "* the model itself - what does our model look like?\n",
        "* The training of a model - how does a model perform while it learns?\n",
        "* the predictions of the model - how do he predictions of a model lin eup against the ground truth ( the original labels) ?\n"
      ]
    },
    {
      "cell_type": "code",
      "metadata": {
        "colab": {
          "base_uri": "https://localhost:8080/"
        },
        "id": "5-3jVGaWibt8",
        "outputId": "c8291bb8-604a-4070-ce22-7fd579b9857d"
      },
      "source": [
        "# make a bigger dataset\n",
        "X = tf.range( -100, 100 , 4)\n",
        "X"
      ],
      "execution_count": 181,
      "outputs": [
        {
          "output_type": "execute_result",
          "data": {
            "text/plain": [
              "<tf.Tensor: shape=(50,), dtype=int32, numpy=\n",
              "array([-100,  -96,  -92,  -88,  -84,  -80,  -76,  -72,  -68,  -64,  -60,\n",
              "        -56,  -52,  -48,  -44,  -40,  -36,  -32,  -28,  -24,  -20,  -16,\n",
              "        -12,   -8,   -4,    0,    4,    8,   12,   16,   20,   24,   28,\n",
              "         32,   36,   40,   44,   48,   52,   56,   60,   64,   68,   72,\n",
              "         76,   80,   84,   88,   92,   96])>"
            ]
          },
          "metadata": {
            "tags": []
          },
          "execution_count": 181
        }
      ]
    },
    {
      "cell_type": "code",
      "metadata": {
        "colab": {
          "base_uri": "https://localhost:8080/"
        },
        "id": "hmjsODCTijcu",
        "outputId": "461704cc-cff1-4264-f2ce-16c095c2bf05"
      },
      "source": [
        "# make labels for the dataset\n",
        "y = X + 10\n",
        "y"
      ],
      "execution_count": 182,
      "outputs": [
        {
          "output_type": "execute_result",
          "data": {
            "text/plain": [
              "<tf.Tensor: shape=(50,), dtype=int32, numpy=\n",
              "array([-90, -86, -82, -78, -74, -70, -66, -62, -58, -54, -50, -46, -42,\n",
              "       -38, -34, -30, -26, -22, -18, -14, -10,  -6,  -2,   2,   6,  10,\n",
              "        14,  18,  22,  26,  30,  34,  38,  42,  46,  50,  54,  58,  62,\n",
              "        66,  70,  74,  78,  82,  86,  90,  94,  98, 102, 106])>"
            ]
          },
          "metadata": {
            "tags": []
          },
          "execution_count": 182
        }
      ]
    },
    {
      "cell_type": "code",
      "metadata": {
        "colab": {
          "base_uri": "https://localhost:8080/",
          "height": 283
        },
        "id": "6UzyyUnKip2Z",
        "outputId": "4d71e06a-119d-41dd-cc5b-da616abe7eed"
      },
      "source": [
        "plt.scatter(X,y)"
      ],
      "execution_count": 183,
      "outputs": [
        {
          "output_type": "execute_result",
          "data": {
            "text/plain": [
              "<matplotlib.collections.PathCollection at 0x1b6886ada60>"
            ]
          },
          "metadata": {
            "tags": []
          },
          "execution_count": 183
        },
        {
          "output_type": "display_data",
          "data": {
            "text/plain": [
              "<Figure size 432x288 with 1 Axes>"
            ],
            "image/png": "[encoded data removed]"
          },
          "metadata": {
            "tags": [],
            "needs_background": "light"
          }
        }
      ]
    },
    {
      "cell_type": "markdown",
      "metadata": {
        "id": "o1rvADHdivGB"
      },
      "source": [
        "### The 3 sets... \n",
        "\n",
        "* **train set**- 70-80% of the data\n",
        "* **Validation set** - 10-15% of the data\n",
        "* **test set** - 10-15 % of the data"
      ]
    },
    {
      "cell_type": "code",
      "metadata": {
        "colab": {
          "base_uri": "https://localhost:8080/"
        },
        "id": "mYPjPfcijqnO",
        "outputId": "b5eb9d6e-ea6a-4206-fdea-a8289e7c293f"
      },
      "source": [
        "len(X)"
      ],
      "execution_count": 184,
      "outputs": [
        {
          "output_type": "execute_result",
          "data": {
            "text/plain": [
              "50"
            ]
          },
          "metadata": {
            "tags": []
          },
          "execution_count": 184
        }
      ]
    },
    {
      "cell_type": "code",
      "metadata": {
        "id": "t573wrEcj0co"
      },
      "source": [
        "# split the data into train and test sets \n",
        "X_train = X[:40]\n",
        "y_train = X[:40]\n",
        "\n",
        "X_test = X[40:]\n",
        "y_test= y[40:]"
      ],
      "execution_count": 185,
      "outputs": []
    },
    {
      "cell_type": "code",
      "metadata": {
        "colab": {
          "base_uri": "https://localhost:8080/"
        },
        "id": "q_BhJ2n-kVBP",
        "outputId": "cf72c816-d703-428e-e4bd-3e8d0b869ee0"
      },
      "source": [
        "len(X_train), len(X_test)"
      ],
      "execution_count": 186,
      "outputs": [
        {
          "output_type": "execute_result",
          "data": {
            "text/plain": [
              "(40, 10)"
            ]
          },
          "metadata": {
            "tags": []
          },
          "execution_count": 186
        }
      ]
    },
    {
      "cell_type": "markdown",
      "metadata": {
        "id": "0hAH2eqxkqdV"
      },
      "source": [
        "### Visualizing the data"
      ]
    },
    {
      "cell_type": "code",
      "metadata": {
        "colab": {
          "base_uri": "https://localhost:8080/",
          "height": 428
        },
        "id": "ycxe-bHokWPm",
        "outputId": "22776691-3424-438b-a183-ed9bec54b8bd"
      },
      "source": [
        "X = tf.range( -100, 100 , 4)\n",
        "y = X + 10\n",
        "\n",
        "X_train = X[:40]\n",
        "y_train = y[:40]\n",
        "\n",
        "X_test = X[40:]\n",
        "y_test= y[40:]\n",
        "\n",
        "plt.figure(figsize=(10, 7))\n",
        "# Plot training data in blue\n",
        "plt.scatter(X_train, y_train, c='b', label='Training data')\n",
        "# Plot test data in green\n",
        "plt.scatter(X_test, y_test, c='g', label='Testing data')\n",
        "# Show the legend\n",
        "plt.legend();"
      ],
      "execution_count": 187,
      "outputs": [
        {
          "output_type": "display_data",
          "data": {
            "text/plain": [
              "<Figure size 720x504 with 1 Axes>"
            ],
            "image/png": "[encoded data removed]"
          },
          "metadata": {
            "tags": [],
            "needs_background": "light"
          }
        }
      ]
    },
    {
      "cell_type": "code",
      "metadata": {
        "colab": {
          "base_uri": "https://localhost:8080/",
          "height": 283
        },
        "id": "gnkns3zIkWXm",
        "outputId": "8ed2e477-f172-4fa5-b330-3fe46e124f7f"
      },
      "source": [
        "plt.scatter(X_test,y_test)"
      ],
      "execution_count": 188,
      "outputs": [
        {
          "output_type": "execute_result",
          "data": {
            "text/plain": [
              "<matplotlib.collections.PathCollection at 0x1b6887abf40>"
            ]
          },
          "metadata": {
            "tags": []
          },
          "execution_count": 188
        },
        {
          "output_type": "display_data",
          "data": {
            "text/plain": [
              "<Figure size 432x288 with 1 Axes>"
            ],
            "image/png": "[encoded data removed]"
          },
          "metadata": {
            "tags": [],
            "needs_background": "light"
          }
        }
      ]
    },
    {
      "cell_type": "code",
      "metadata": {
        "id": "RwuzTSYwkWYU"
      },
      "source": [
        "# lets see what we can do to improve it futher\n",
        "\n",
        "# 1. create the model ( this time with an extra hidden layer with 100 hidden units )\n",
        "model = tf.keras.Sequential([\n",
        "                            tf.keras.layers.Dense(1)\n",
        "])\n",
        "\n",
        "# 2 . compiling the model \n",
        "model.compile(optimizer = tf.keras.optimizers.SGD(),\n",
        "              loss = tf.keras.losses.mae,\n",
        "              metrics = [\"mae\"])\n",
        "\n",
        "# 3. fitting the model\n",
        "#model.fit(X_train, y_train, epochs = 100)"
      ],
      "execution_count": 189,
      "outputs": []
    },
    {
      "cell_type": "markdown",
      "metadata": {
        "id": "08hgQvndkWY9"
      },
      "source": [
        "### visualizing a model"
      ]
    },
    {
      "cell_type": "code",
      "metadata": {
        "id": "8PYKZAJpkWZn"
      },
      "source": [
        "#model.summary()\n",
        "#will get a error if the model is not run at least once or inputshape is not given"
      ],
      "execution_count": 190,
      "outputs": []
    },
    {
      "cell_type": "code",
      "metadata": {
        "colab": {
          "base_uri": "https://localhost:8080/"
        },
        "id": "pG7qtDKnkWaS",
        "outputId": "71099727-8834-4ae7-a7b0-6c4272f328dd"
      },
      "source": [
        "tf.random.set_seed(42)\n",
        "model = tf.keras.Sequential([\n",
        "                            tf.keras.layers.Dense(10 , input_shape = [1], name = \"Inpur_layer\"),\n",
        "                            tf.keras.layers.Dense(1, name = \"Output_layer\")\n",
        "                            \n",
        "], name = \"my_model\")\n",
        "\n",
        "model.compile(optimizer = tf.keras.optimizers.SGD(learning_rate= 0.01),\n",
        "              loss = tf.keras.losses.mae,\n",
        "              metrics = [\"mae\"])\n",
        "model.fit(X_train,y_train, verbose = 0,epochs = 100)"
      ],
      "execution_count": 191,
      "outputs": [
        {
          "output_type": "execute_result",
          "data": {
            "text/plain": [
              "<tensorflow.python.keras.callbacks.History at 0x1b68883cb80>"
            ]
          },
          "metadata": {
            "tags": []
          },
          "execution_count": 191
        }
      ]
    },
    {
      "cell_type": "code",
      "metadata": {
        "colab": {
          "base_uri": "https://localhost:8080/"
        },
        "id": "AaV7erIskWa9",
        "outputId": "410fd6cb-4183-4c9e-c6b5-86af6fe1115f"
      },
      "source": [
        "model.summary()"
      ],
      "execution_count": 192,
      "outputs": [
        {
          "output_type": "stream",
          "text": [
            "Model: \"my_model\"\n",
            "_________________________________________________________________\n",
            "Layer (type)                 Output Shape              Param #   \n",
            "=================================================================\n",
            "Inpur_layer (Dense)          (None, 10)                20        \n",
            "_________________________________________________________________\n",
            "Output_layer (Dense)         (None, 1)                 11        \n",
            "=================================================================\n",
            "Total params: 31\n",
            "Trainable params: 31\n",
            "Non-trainable params: 0\n",
            "_________________________________________________________________\n"
          ],
          "name": "stdout"
        }
      ]
    },
    {
      "cell_type": "markdown",
      "metadata": {
        "id": "ZnEJHeNvkWbp"
      },
      "source": [
        "* **Total params** - total no of parameters in the model.\n",
        "* **Trainable parameters** - these are the parameters (patterns)\n",
        "the model can update as it trains.\n",
        "* **Non-trainable params** - these parameters aren't updated during training (this is typical when you use parameters from other models during **transfer learning**)\n"
      ]
    },
    {
      "cell_type": "code",
      "metadata": {
        "colab": {
          "base_uri": "https://localhost:8080/",
          "height": 312
        },
        "id": "tL3cJS8hkVTu",
        "outputId": "e84960ab-899c-41af-c6b6-f8e4b8bd578c"
      },
      "source": [
        "from tensorflow.keras.utils import plot_model\n",
        "\n",
        "plot_model(model= model, show_shapes= True)"
      ],
      "execution_count": 193,
      "outputs": [
        {
          "output_type": "execute_result",
          "data": {
            "image/png": "[encoded data removed]",
            "text/plain": [
              "<IPython.core.display.Image object>"
            ]
          },
          "metadata": {
            "tags": []
          },
          "execution_count": 193
        }
      ]
    },
    {
      "cell_type": "markdown",
      "metadata": {
        "id": "Ucxr19r8p_qh"
      },
      "source": [
        "### Visulizing our models predictions\n",
        "\n",
        "To visualize predictions , its a good idea to plot them against the ground truth labels.\n",
        "often you will see this in the form of y_test or y_true versus the y_pred "
      ]
    },
    {
      "cell_type": "code",
      "metadata": {
        "colab": {
          "base_uri": "https://localhost:8080/"
        },
        "id": "y_Ri-64ir3Bv",
        "outputId": "4dd2a906-6a2e-406e-a1a1-68453d099b20"
      },
      "source": [
        "# Make some predictions\n",
        "y_pred = model.predict(X_test)\n",
        "y_pred"
      ],
      "execution_count": 194,
      "outputs": [
        {
          "output_type": "execute_result",
          "data": {
            "text/plain": [
              "array([[ 70.55219 ],\n",
              "       [ 75.139915],\n",
              "       [ 79.72764 ],\n",
              "       [ 84.31536 ],\n",
              "       [ 88.90308 ],\n",
              "       [ 93.49081 ],\n",
              "       [ 98.07853 ],\n",
              "       [102.66626 ],\n",
              "       [107.253975],\n",
              "       [111.841705]], dtype=float32)"
            ]
          },
          "metadata": {
            "tags": []
          },
          "execution_count": 194
        }
      ]
    },
    {
      "cell_type": "code",
      "metadata": {
        "colab": {
          "base_uri": "https://localhost:8080/"
        },
        "id": "2cL-lW2Hr3c7",
        "outputId": "2003e5b0-9c17-41ee-87ed-91bfa4add078"
      },
      "source": [
        "y_test"
      ],
      "execution_count": 195,
      "outputs": [
        {
          "output_type": "execute_result",
          "data": {
            "text/plain": [
              "<tf.Tensor: shape=(10,), dtype=int32, numpy=array([ 70,  74,  78,  82,  86,  90,  94,  98, 102, 106])>"
            ]
          },
          "metadata": {
            "tags": []
          },
          "execution_count": 195
        }
      ]
    },
    {
      "cell_type": "code",
      "metadata": {
        "id": "ehcQ5KxWr3yp"
      },
      "source": [
        "# lets create a plotting function\n",
        "\n",
        "def plot_predictions(train_data = X_train,\n",
        "                     train_labels = y_train,\n",
        "                     test_data = X_test,\n",
        "                     test_labels = y_test,\n",
        "                     predictions = y_pred):\n",
        "  \"\"\"\n",
        "  Plots training data, test data and compares predictions to ground truth \n",
        "  \"\"\"\n",
        "  plt.figure(figsize= (10,7))\n",
        "  # Plot the training data in blue \n",
        "  plt.scatter(train_data, train_labels, c =\"b\", label = \"training data\")\n",
        "  # Plot the testing data in green \n",
        "  plt.scatter(test_data, test_labels, c =\"g\", label = \"testing data\")\n",
        "  # Plot models predictions in red\n",
        "  plt.scatter(test_data,predictions, c = \"r\", label = \"predictions\")\n",
        "  plt.legend();\n"
      ],
      "execution_count": 196,
      "outputs": []
    },
    {
      "cell_type": "code",
      "metadata": {
        "colab": {
          "base_uri": "https://localhost:8080/",
          "height": 428
        },
        "id": "UCEP7rKzr345",
        "outputId": "35801a01-ad08-442b-c254-bcd6a5bacad8"
      },
      "source": [
        "plot_predictions(train_data = X_train,\n",
        "                     train_labels = y_train,\n",
        "                     test_data = X_test,\n",
        "                     test_labels = y_test,\n",
        "                     predictions = y_pred)"
      ],
      "execution_count": 197,
      "outputs": [
        {
          "output_type": "display_data",
          "data": {
            "text/plain": [
              "<Figure size 720x504 with 1 Axes>"
            ],
            "image/png": "[encoded data removed]"
          },
          "metadata": {
            "tags": [],
            "needs_background": "light"
          }
        }
      ]
    },
    {
      "cell_type": "markdown",
      "metadata": {
        "id": "VMifohC4r3-0"
      },
      "source": [
        "### Evaluating our models prediction with regression evaluation metrics\n",
        "\n",
        "Alongisde visualizations, evaulation metrics are your alternative best option for evaluating your model.\n",
        "\n",
        "Depending on the problem you're working on, different models have different evaluation metrics.\n",
        "\n",
        "Two of the main metrics used for regression problems are:\n",
        "\n",
        "* **Mean absolute error (MAE)** - the mean difference between each of the predictions.\n",
        "* **Mean squared error (MSE)** - the squared mean difference between of the predictions (use if larger errors are more detrimental than smaller errors).\n",
        "The lower each of these values, the better.\n",
        "\n",
        "You can also use model.evaluate() which will return the loss of the model as well as any metrics setup during the compile step."
      ]
    },
    {
      "cell_type": "code",
      "metadata": {
        "colab": {
          "base_uri": "https://localhost:8080/"
        },
        "id": "iJ1_riVqxxhB",
        "outputId": "9104ef45-21a7-4c00-b17e-0abffe0bf353"
      },
      "source": [
        "# Evaluate the model on the test\n",
        "model.evaluate(X_test,y_test)"
      ],
      "execution_count": 198,
      "outputs": [
        {
          "output_type": "stream",
          "text": [
            "1/1 [==============================] - 0s 81ms/step - loss: 3.1969 - mae: 3.1969\n"
          ],
          "name": "stdout"
        },
        {
          "output_type": "execute_result",
          "data": {
            "text/plain": [
              "[3.196946620941162, 3.196946620941162]"
            ]
          },
          "metadata": {
            "tags": []
          },
          "execution_count": 198
        }
      ]
    },
    {
      "cell_type": "code",
      "metadata": {
        "colab": {
          "base_uri": "https://localhost:8080/"
        },
        "id": "4Bw5wHWV08u8",
        "outputId": "2ebbb170-af32-43b6-ae74-7a48ff80c897"
      },
      "source": [
        "# calcuate the mean absolute error instead of using evaluate method\n",
        "mae = tf.metrics.mean_absolute_error(y_true=y_test, y_pred=y_pred)\n",
        "mae"
      ],
      "execution_count": 199,
      "outputs": [
        {
          "output_type": "execute_result",
          "data": {
            "text/plain": [
              "<tf.Tensor: shape=(10,), dtype=float32, numpy=\n",
              "array([17.558247, 14.116051, 11.708944, 10.336927, 10.      , 10.698161,\n",
              "       12.447118, 15.333008, 19.253975, 23.841705], dtype=float32)>"
            ]
          },
          "metadata": {
            "tags": []
          },
          "execution_count": 199
        }
      ]
    },
    {
      "cell_type": "code",
      "metadata": {
        "colab": {
          "base_uri": "https://localhost:8080/"
        },
        "id": "bgzabCaD1gdM",
        "outputId": "d2c731ee-5be7-4c48-d335-0e7948ad1750"
      },
      "source": [
        "y_pred"
      ],
      "execution_count": 200,
      "outputs": [
        {
          "output_type": "execute_result",
          "data": {
            "text/plain": [
              "array([[ 70.55219 ],\n",
              "       [ 75.139915],\n",
              "       [ 79.72764 ],\n",
              "       [ 84.31536 ],\n",
              "       [ 88.90308 ],\n",
              "       [ 93.49081 ],\n",
              "       [ 98.07853 ],\n",
              "       [102.66626 ],\n",
              "       [107.253975],\n",
              "       [111.841705]], dtype=float32)"
            ]
          },
          "metadata": {
            "tags": []
          },
          "execution_count": 200
        }
      ]
    },
    {
      "cell_type": "code",
      "metadata": {
        "colab": {
          "base_uri": "https://localhost:8080/"
        },
        "id": "2y1vXZM41lPI",
        "outputId": "5afef69b-0322-4d43-ec6b-b581e7a841fb"
      },
      "source": [
        "y_test"
      ],
      "execution_count": 201,
      "outputs": [
        {
          "output_type": "execute_result",
          "data": {
            "text/plain": [
              "<tf.Tensor: shape=(10,), dtype=int32, numpy=array([ 70,  74,  78,  82,  86,  90,  94,  98, 102, 106])>"
            ]
          },
          "metadata": {
            "tags": []
          },
          "execution_count": 201
        }
      ]
    },
    {
      "cell_type": "code",
      "metadata": {
        "colab": {
          "base_uri": "https://localhost:8080/"
        },
        "id": "0CUCxmVm2O2t",
        "outputId": "c642c540-f071-42bf-90c5-7594f989f0e2"
      },
      "source": [
        "#notice how the the tensors are of not the same shape\n",
        "# so first convert y_pred to tensor then we can squeeze it or reshape it\n",
        "y_pred_tensor = tf.constant(y_pred)\n",
        "y_pred_tensor"
      ],
      "execution_count": 202,
      "outputs": [
        {
          "output_type": "execute_result",
          "data": {
            "text/plain": [
              "<tf.Tensor: shape=(10, 1), dtype=float32, numpy=\n",
              "array([[ 70.55219 ],\n",
              "       [ 75.139915],\n",
              "       [ 79.72764 ],\n",
              "       [ 84.31536 ],\n",
              "       [ 88.90308 ],\n",
              "       [ 93.49081 ],\n",
              "       [ 98.07853 ],\n",
              "       [102.66626 ],\n",
              "       [107.253975],\n",
              "       [111.841705]], dtype=float32)>"
            ]
          },
          "metadata": {
            "tags": []
          },
          "execution_count": 202
        }
      ]
    },
    {
      "cell_type": "code",
      "metadata": {
        "colab": {
          "base_uri": "https://localhost:8080/"
        },
        "id": "oUOfExND2qN2",
        "outputId": "ebfe5938-a57f-4570-e0dd-8149a5bf5b2d"
      },
      "source": [
        "y_pred_tensor_reshaped  = tf.reshape(y_pred_tensor,(10,))\n",
        "# not we can use even the squeeze function\n",
        "y_pred_tensor_reshaped "
      ],
      "execution_count": 203,
      "outputs": [
        {
          "output_type": "execute_result",
          "data": {
            "text/plain": [
              "<tf.Tensor: shape=(10,), dtype=float32, numpy=\n",
              "array([ 70.55219 ,  75.139915,  79.72764 ,  84.31536 ,  88.90308 ,\n",
              "        93.49081 ,  98.07853 , 102.66626 , 107.253975, 111.841705],\n",
              "      dtype=float32)>"
            ]
          },
          "metadata": {
            "tags": []
          },
          "execution_count": 203
        }
      ]
    },
    {
      "cell_type": "code",
      "metadata": {
        "colab": {
          "base_uri": "https://localhost:8080/"
        },
        "id": "8H3-P7Rx20Z3",
        "outputId": "468c9efd-7ce4-47d9-97f2-bc6f146a1d6b"
      },
      "source": [
        "# now lets pass this into the metrics to directly calculate the MAE\n",
        "mae = tf.metrics.mean_absolute_error(y_true=y_test, y_pred=y_pred_tensor_reshaped)\n",
        "mae"
      ],
      "execution_count": 204,
      "outputs": [
        {
          "output_type": "execute_result",
          "data": {
            "text/plain": [
              "<tf.Tensor: shape=(), dtype=float32, numpy=3.1969466>"
            ]
          },
          "metadata": {
            "tags": []
          },
          "execution_count": 204
        }
      ]
    },
    {
      "cell_type": "code",
      "metadata": {
        "colab": {
          "base_uri": "https://localhost:8080/"
        },
        "id": "prqJPAu13d6Q",
        "outputId": "c2039cef-1b00-4afb-efbd-b907745baedc"
      },
      "source": [
        "# calculate the mean square error\n",
        "MSE = tf.metrics.mean_squared_error(y_true=y_test, y_pred=y_pred_tensor_reshaped)\n",
        "MSE"
      ],
      "execution_count": 205,
      "outputs": [
        {
          "output_type": "execute_result",
          "data": {
            "text/plain": [
              "<tf.Tensor: shape=(), dtype=float32, numpy=13.070175>"
            ]
          },
          "metadata": {
            "tags": []
          },
          "execution_count": 205
        }
      ]
    },
    {
      "cell_type": "code",
      "metadata": {
        "id": "seoSw7hu3vmm"
      },
      "source": [
        "def mae(y_test, y_pred):\n",
        "  \"\"\"\n",
        "  Calculuates mean absolute error between y_test and y_preds.\n",
        "  \"\"\"\n",
        "  return tf.metrics.mean_absolute_error(y_test,\n",
        "                                        y_pred)\n",
        "  \n",
        "def mse(y_test, y_pred):\n",
        "  \"\"\"\n",
        "  Calculates mean squared error between y_test and y_preds.\n",
        "  \"\"\"\n",
        "  return tf.metrics.mean_squared_error(y_test,\n",
        "                                       y_pred)"
      ],
      "execution_count": 206,
      "outputs": []
    },
    {
      "cell_type": "markdown",
      "metadata": {
        "id": "VA1QJyJqAILP"
      },
      "source": [
        "###**Running experiments to improve a model**\n",
        "After seeing the evaluation metrics and the predictions your model makes, it's likely you'll want to improve it.\n",
        "\n",
        "Again, there are many different ways you can do this, but 3 of the main ones are:\n",
        "\n",
        "\n",
        "*   **Get more data** - get more examples for your model to train on (more opportunities to learn patterns).\n",
        "* **Make your model larger** (use a more complex model) - this might come in the form of more layers or more hidden units in each layer.\n",
        "* Train for longer - give your model more of a chance to find the patterns in the data.\n",
        "Since we created our dataset, we could easily make more data but this isn't always the case when you're working with real-world datasets.\n",
        "\n",
        "So let's take a look at how we can improve our model using 2 and 3.\n",
        "\n",
        "To do so, we'll build 3 models and compare their results:\n",
        "\n",
        "* model_1 - same as original model, 1 layer, trained for 100 epochs.\n",
        "* model_2 - 2 layers, trained for 100 epochs.\n",
        "* model_3 - 2 layers, trained for 500 epochs."
      ]
    },
    {
      "cell_type": "markdown",
      "metadata": {
        "id": "01aQ9z3bkpGk"
      },
      "source": [
        "Build model_1"
      ]
    },
    {
      "cell_type": "code",
      "metadata": {
        "colab": {
          "base_uri": "https://localhost:8080/"
        },
        "id": "g9Dxsth4klZo",
        "outputId": "cbded841-e0c6-45e1-b878-ea665fb3e866"
      },
      "source": [
        "# Set random seed\n",
        "tf.random.set_seed(42)\n",
        "\n",
        "# Replicate original model\n",
        "model_1 = tf.keras.Sequential([\n",
        "  tf.keras.layers.Dense(1)\n",
        "])\n",
        "\n",
        "# Compile the model\n",
        "model_1.compile(loss=tf.keras.losses.mae,\n",
        "                optimizer=tf.keras.optimizers.SGD(),\n",
        "                metrics=['mae'])\n",
        "\n",
        "# Fit the model\n",
        "model_1.fit(X_train, y_train,verbose=0, epochs=100)"
      ],
      "execution_count": 208,
      "outputs": [
        {
          "output_type": "execute_result",
          "data": {
            "text/plain": [
              "<tensorflow.python.keras.callbacks.History at 0x1b688be0a60>"
            ]
          },
          "metadata": {
            "tags": []
          },
          "execution_count": 208
        }
      ]
    },
    {
      "cell_type": "code",
      "metadata": {
        "colab": {
          "base_uri": "https://localhost:8080/",
          "height": 428
        },
        "id": "JizrD9CSk1LS",
        "outputId": "ef59d5af-fcad-4055-d408-66847413eb1c"
      },
      "source": [
        "\n",
        "# Make and plot predictions for model_1\n",
        "y_preds_1 = model_1.predict(X_test)\n",
        "plot_predictions(predictions=y_preds_1)"
      ],
      "execution_count": 209,
      "outputs": [
        {
          "output_type": "display_data",
          "data": {
            "text/plain": [
              "<Figure size 720x504 with 1 Axes>"
            ],
            "image/png": "[encoded data removed]"
          },
          "metadata": {
            "tags": [],
            "needs_background": "light"
          }
        }
      ]
    },
    {
      "cell_type": "code",
      "metadata": {
        "colab": {
          "base_uri": "https://localhost:8080/"
        },
        "id": "QFqi8znpk44o",
        "outputId": "f8d19fde-49f5-40be-be68-605a3e62f2a1"
      },
      "source": [
        "# Calculate model_1 metrics\n",
        "mae_1 = mae(y_test, y_preds_1.squeeze()).numpy()\n",
        "mse_1 = mse(y_test, y_preds_1.squeeze()).numpy()\n",
        "mae_1, mse_1"
      ],
      "execution_count": 210,
      "outputs": [
        {
          "output_type": "execute_result",
          "data": {
            "text/plain": [
              "(18.745327, 353.5734)"
            ]
          },
          "metadata": {
            "tags": []
          },
          "execution_count": 210
        }
      ]
    },
    {
      "cell_type": "markdown",
      "metadata": {
        "id": "VA7MGhVTk6t9"
      },
      "source": [
        "Build model_2"
      ]
    },
    {
      "cell_type": "code",
      "metadata": {
        "colab": {
          "base_uri": "https://localhost:8080/"
        },
        "id": "yiW_UzrNlAz9",
        "outputId": "a6820f8b-2226-4148-e0fc-bbeef707ba4c"
      },
      "source": [
        "# Set random seed\n",
        "tf.random.set_seed(42)\n",
        "\n",
        "# Replicate model_1 and add an extra layer\n",
        "model_2 = tf.keras.Sequential([\n",
        "  tf.keras.layers.Dense(1),\n",
        "  tf.keras.layers.Dense(1) # add a second layer\n",
        "])\n",
        "\n",
        "# Compile the model\n",
        "model_2.compile(loss=tf.keras.losses.mae,\n",
        "                optimizer=tf.keras.optimizers.SGD(),\n",
        "                metrics=['mae'])\n",
        "\n",
        "# Fit the model\n",
        "model_2.fit(X_train, y_train, epochs=100, verbose=0) # set verbose to 0 for less output"
      ],
      "execution_count": 211,
      "outputs": [
        {
          "output_type": "execute_result",
          "data": {
            "text/plain": [
              "<tensorflow.python.keras.callbacks.History at 0x1b6873c6700>"
            ]
          },
          "metadata": {
            "tags": []
          },
          "execution_count": 211
        }
      ]
    },
    {
      "cell_type": "code",
      "metadata": {
        "colab": {
          "base_uri": "https://localhost:8080/",
          "height": 428
        },
        "id": "HWSfuTLmlEP8",
        "outputId": "8566aaad-6542-4919-8861-b65bdc0dbace"
      },
      "source": [
        "# Make and plot predictions for model_2\n",
        "y_preds_2 = model_2.predict(X_test)\n",
        "plot_predictions(predictions=y_preds_2)"
      ],
      "execution_count": 212,
      "outputs": [
        {
          "output_type": "display_data",
          "data": {
            "text/plain": [
              "<Figure size 720x504 with 1 Axes>"
            ],
            "image/png": "[encoded data removed]"
          },
          "metadata": {
            "tags": [],
            "needs_background": "light"
          }
        }
      ]
    },
    {
      "cell_type": "code",
      "metadata": {
        "colab": {
          "base_uri": "https://localhost:8080/"
        },
        "id": "Ptp2qQx_lGK8",
        "outputId": "9be81c81-048e-43f0-d04b-1625aa4187c1"
      },
      "source": [
        "# Calculate model_2 metrics\n",
        "mae_2 = mae(y_test, y_preds_2.squeeze()).numpy()\n",
        "mse_2 = mse(y_test, y_preds_2.squeeze()).numpy()\n",
        "mae_2, mse_2"
      ],
      "execution_count": 213,
      "outputs": [
        {
          "output_type": "execute_result",
          "data": {
            "text/plain": [
              "(1.9098641, 5.4595404)"
            ]
          },
          "metadata": {
            "tags": []
          },
          "execution_count": 213
        }
      ]
    },
    {
      "cell_type": "markdown",
      "metadata": {
        "id": "N-Q7F2XllHnn"
      },
      "source": [
        "Build model_3"
      ]
    },
    {
      "cell_type": "code",
      "metadata": {
        "colab": {
          "base_uri": "https://localhost:8080/"
        },
        "id": "Uqueow45lLSa",
        "outputId": "ad9081f6-95a8-42b0-eb68-df92bb28cbfc"
      },
      "source": [
        "# Set random seed\n",
        "tf.random.set_seed(42)\n",
        "\n",
        "# Replicate model_2\n",
        "model_3 = tf.keras.Sequential([\n",
        "  tf.keras.layers.Dense(1),\n",
        "  tf.keras.layers.Dense(1)\n",
        "])\n",
        "\n",
        "# Compile the model\n",
        "model_3.compile(loss=tf.keras.losses.mae,\n",
        "                optimizer=tf.keras.optimizers.SGD(),\n",
        "                metrics=['mae'])\n",
        "\n",
        "# Fit the model (this time for 500 epochs, not 100)\n",
        "model_3.fit(X_train, y_train, epochs=500, verbose=0) # set verbose to 0 for less output"
      ],
      "execution_count": 214,
      "outputs": [
        {
          "output_type": "execute_result",
          "data": {
            "text/plain": [
              "<tensorflow.python.keras.callbacks.History at 0x1b6861270a0>"
            ]
          },
          "metadata": {
            "tags": []
          },
          "execution_count": 214
        }
      ]
    },
    {
      "cell_type": "code",
      "metadata": {
        "colab": {
          "base_uri": "https://localhost:8080/",
          "height": 428
        },
        "id": "zZlp5nW4lPeu",
        "outputId": "7c417aee-16b3-4db3-d3ba-df0a6823c28b"
      },
      "source": [
        "# Make and plot predictions for model_3\n",
        "y_preds_3 = model_3.predict(X_test)\n",
        "plot_predictions(predictions=y_preds_3)"
      ],
      "execution_count": 215,
      "outputs": [
        {
          "output_type": "display_data",
          "data": {
            "text/plain": [
              "<Figure size 720x504 with 1 Axes>"
            ],
            "image/png": "[encoded data removed]"
          },
          "metadata": {
            "tags": [],
            "needs_background": "light"
          }
        }
      ]
    },
    {
      "cell_type": "markdown",
      "metadata": {
        "id": "IZaejix0lQ16"
      },
      "source": [
        "Strange, we trained for longer but our model performed worse?\n",
        "\n",
        "As it turns out, our model might've trained too long and has thus resulted in worse results (we'll see ways to prevent training for too long later on)."
      ]
    },
    {
      "cell_type": "code",
      "metadata": {
        "colab": {
          "base_uri": "https://localhost:8080/"
        },
        "id": "PAnOfiDYlUuy",
        "outputId": "d71deefd-5746-43a8-9c24-4d1ff02272d0"
      },
      "source": [
        "\n",
        "# Calculate model_3 metrics\n",
        "mae_3 = mae(y_test, y_preds_3.squeeze()).numpy()\n",
        "mse_3 = mse(y_test, y_preds_3.squeeze()).numpy()\n",
        "mae_3, mse_3"
      ],
      "execution_count": 216,
      "outputs": [
        {
          "output_type": "execute_result",
          "data": {
            "text/plain": [
              "(68.687874, 4804.4736)"
            ]
          },
          "metadata": {
            "tags": []
          },
          "execution_count": 216
        }
      ]
    },
    {
      "cell_type": "markdown",
      "metadata": {
        "id": "hSoyT9IYlVh5"
      },
      "source": [
        "### Comparing results"
      ]
    },
    {
      "cell_type": "code",
      "metadata": {
        "id": "X0PgemCClVkZ"
      },
      "source": [
        "model_results = [[\"model_1\", mae_1, mse_1],\n",
        "                 [\"model_2\", mae_2, mse_2],\n",
        "                 [\"model_3\", mae_3, mae_3]]"
      ],
      "execution_count": 218,
      "outputs": []
    },
    {
      "cell_type": "code",
      "metadata": {
        "colab": {
          "base_uri": "https://localhost:8080/",
          "height": 143
        },
        "id": "cOPVrCKZlVnf",
        "outputId": "d6e446b3-e57b-4bb4-af8f-8a12f2a20264"
      },
      "source": [
        "import pandas as pd\n",
        "all_results = pd.DataFrame(model_results, columns=[\"model\", \"mae\", \"mse\"])\n",
        "all_results"
      ],
      "execution_count": 219,
      "outputs": [
        {
          "output_type": "execute_result",
          "data": {
            "text/plain": [
              "     model        mae         mse\n",
              "0  model_1  18.745327  353.573395\n",
              "1  model_2   1.909864    5.459540\n",
              "2  model_3  68.687874   68.687874"
            ],
            "text/html": [
              "<div>\n",
              "<style scoped>\n",
              "    .dataframe tbody tr th:only-of-type {\n",
              "        vertical-align: middle;\n",
              "    }\n",
              "\n",
              "    .dataframe tbody tr th {\n",
              "        vertical-align: top;\n",
              "    }\n",
              "\n",
              "    .dataframe thead th {\n",
              "        text-align: right;\n",
              "    }\n",
              "</style>\n",
              "<table border=\"1\" class=\"dataframe\">\n",
              "  <thead>\n",
              "    <tr style=\"text-align: right;\">\n",
              "      <th></th>\n",
              "      <th>model</th>\n",
              "      <th>mae</th>\n",
              "      <th>mse</th>\n",
              "    </tr>\n",
              "  </thead>\n",
              "  <tbody>\n",
              "    <tr>\n",
              "      <th>0</th>\n",
              "      <td>model_1</td>\n",
              "      <td>18.745327</td>\n",
              "      <td>353.573395</td>\n",
              "    </tr>\n",
              "    <tr>\n",
              "      <th>1</th>\n",
              "      <td>model_2</td>\n",
              "      <td>1.909864</td>\n",
              "      <td>5.459540</td>\n",
              "    </tr>\n",
              "    <tr>\n",
              "      <th>2</th>\n",
              "      <td>model_3</td>\n",
              "      <td>68.687874</td>\n",
              "      <td>68.687874</td>\n",
              "    </tr>\n",
              "  </tbody>\n",
              "</table>\n",
              "</div>"
            ]
          },
          "metadata": {
            "tags": []
          },
          "execution_count": 219
        }
      ]
    },
    {
      "cell_type": "markdown",
      "metadata": {
        "id": "bbjNWpOJlVon"
      },
      "source": [
        "From our experiments, it looks like model_2 performed the best.\n",
        "\n",
        "And now, you might be thinking, \"wow, comparing models is tedious...\" and it definitely can be, we've only compared 3 models here.\n",
        "\n",
        "But this is part of what machine learning modelling is about, trying many different combinations of models and seeing which performs best.\n",
        "\n",
        "Each model you build is a small experiment.\n",
        "\n",
        "`🔑 Note: One of your main goals should be to minimize the time between your experiments. The more experiments you do, the more things you'll figure out which don't work and in turn, get closer to figuring out what does work. Remember the machine learning practitioner's motto: \"experiment, experiment, experiment\".`\n",
        "\n",
        "Another thing you'll also find is what you thought may work (such as training a model for longer) may not always work and the exact opposite is also often the case.\n",
        "\n",
        "## Tracking your experiments\n",
        "One really good habit to get into is tracking your modelling experiments to see which perform better than others.\n",
        "\n",
        "We've done a simple version of this above (keeping the results in different variables).\n",
        "\n",
        "📖 Resource: But as you build more models, you'll want to look into using tools such as:\n",
        "\n",
        "TensorBoard - a component of the TensorFlow library to help track modelling experiments (we'll see this later).\n",
        "Weights & Biases - a tool for tracking all kinds of machine learning experiments (the good news for Weights & Biases is it plugs into TensorBoard)."
      ]
    },
    {
      "cell_type": "markdown",
      "metadata": {
        "id": "ykYp0zFSltci"
      },
      "source": [
        "### Saving a model\n",
        "Once you've trained a model and found one which performs to your liking, you'll probably want to save it for use elsewhere (like a web application or mobile device).\n",
        "\n",
        "You can save a TensorFlow/Keras model using model.save().\n",
        "\n",
        "There are two ways to save a model in TensorFlow:\n",
        "\n",
        "1. The SavedModel format (default).\n",
        "2. The HDF5 format.\n",
        "\n",
        "The main difference between the two is the SavedModel is automatically able to save custom objects (such as special layers) without additional modifications when loading the model back in.\n",
        "\n",
        "Which one should you use?\n",
        "\n",
        "It depends on your situation but the SavedModel format will suffice most of the time.\n",
        "\n",
        "Both methods use the same method call."
      ]
    },
    {
      "cell_type": "code",
      "metadata": {
        "id": "UOFPX2ZJlyKV"
      },
      "source": [
        ""
      ],
      "execution_count": null,
      "outputs": []
    }
  ]
}