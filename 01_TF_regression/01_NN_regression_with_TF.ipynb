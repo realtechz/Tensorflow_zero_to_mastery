{
  "nbformat": 4,
  "nbformat_minor": 0,
  "metadata": {
    "colab": {
      "name": "01_NN_regression_with_TF.ipynb",
      "provenance": [],
      "collapsed_sections": [
        "vZrelmSReKxv",
        "3NsDYe0srA0M"
      ],
      "include_colab_link": true
    },
    "kernelspec": {
      "name": "python3",
      "display_name": "Python 3"
    },
    "language_info": {
      "name": "python"
    }
  },
  "cells": [
    {
      "cell_type": "markdown",
      "metadata": {
        "id": "view-in-github",
        "colab_type": "text"
      },
      "source": [
        "<a href=\"https://colab.research.google.com/github/realtechz/Tensorflow_zero_to_mastery/blob/main/01_TF_regression/01_NN_regression_with_TF.ipynb\" target=\"_parent\"><img src=\"https://colab.research.google.com/assets/colab-badge.svg\" alt=\"Open In Colab\"/></a>"
      ]
    },
    {
      "cell_type": "code",
      "metadata": {
        "id": "1tjHecghiS1w"
      },
      "source": [
        "#01_TF_regression/"
      ],
      "execution_count": 1,
      "outputs": []
    },
    {
      "cell_type": "markdown",
      "metadata": {
        "id": "naDY3zAkWW6b"
      },
      "source": [
        "# Introduction to Regression with Neural Networks in Tensorflow\n",
        "\n",
        "There are many defintions for a regression problem but in our case, we are going to simplify it: Predicting a numercial variable base on some other combination of variables , even shorter.. predicting a number."
      ]
    },
    {
      "cell_type": "code",
      "metadata": {
        "colab": {
          "base_uri": "https://localhost:8080/"
        },
        "id": "82gotfb1dpwy",
        "outputId": "c6a3e52e-0732-4775-ea72-c03cfa6abc7c"
      },
      "source": [
        "# Import Tensorflow\n",
        "import tensorflow as tf\n",
        "print(tf.__version__)"
      ],
      "execution_count": 2,
      "outputs": [
        {
          "output_type": "stream",
          "text": [
            "2.5.0\n"
          ],
          "name": "stdout"
        }
      ]
    },
    {
      "cell_type": "markdown",
      "metadata": {
        "id": "vZrelmSReKxv"
      },
      "source": [
        "## Creating data to view and fit "
      ]
    },
    {
      "cell_type": "code",
      "metadata": {
        "colab": {
          "base_uri": "https://localhost:8080/",
          "height": 0
        },
        "id": "R5PkFhujmYEA",
        "outputId": "b2cb430d-fa27-43ff-b943-2757c628bd3e"
      },
      "source": [
        "import numpy as np\n",
        "import matplotlib.pyplot as plt\n",
        "\n",
        "\n",
        "# create the features\n",
        "X = np.array([-7.0, -4.0, -1.0, 2.0, 5.0, 8.0, 11.0, 14.0])\n",
        "\n",
        "# create labels\n",
        "y= np.array([3.0, 6.0, 9.0, 12.0,15.0, 18.0, 21.0, 24.0])\n",
        "\n",
        "# Visualize it\n",
        "plt.scatter(X, y)"
      ],
      "execution_count": 3,
      "outputs": [
        {
          "output_type": "execute_result",
          "data": {
            "text/plain": [
              "<matplotlib.collections.PathCollection at 0x1b5ee2802e0>"
            ]
          },
          "metadata": {
            "tags": []
          },
          "execution_count": 3
        },
        {
          "output_type": "display_data",
          "data": {
            "text/plain": [
              "<Figure size 432x288 with 1 Axes>"
            ],
            "image/png": "[encoded data removed]"
          },
          "metadata": {
            "tags": [],
            "needs_background": "light"
          }
        }
      ]
    },
    {
      "cell_type": "code",
      "metadata": {
        "id": "0yMvgBtHm9BV",
        "colab": {
          "base_uri": "https://localhost:8080/"
        },
        "outputId": "8c4ea11c-004d-4f1e-9c1a-a8b769e2d9f6"
      },
      "source": [
        "y == X + 10"
      ],
      "execution_count": 4,
      "outputs": [
        {
          "output_type": "execute_result",
          "data": {
            "text/plain": [
              "array([ True,  True,  True,  True,  True,  True,  True,  True])"
            ]
          },
          "metadata": {
            "tags": []
          },
          "execution_count": 4
        }
      ]
    },
    {
      "cell_type": "markdown",
      "metadata": {
        "id": "3NsDYe0srA0M"
      },
      "source": [
        "## Input and output shapes\n"
      ]
    },
    {
      "cell_type": "code",
      "metadata": {
        "colab": {
          "base_uri": "https://localhost:8080/"
        },
        "id": "Znd9EODJsc-i",
        "outputId": "07d771f8-6dbb-4088-bcd9-87a344cb6842"
      },
      "source": [
        "# Create a demo tensor for our housing price prediction problem\n",
        "house_info = tf.constant([\"bedroom\", \"bathroom\", \"garage\"])\n",
        "house_price = tf.constant([939700])\n",
        "house_info,house_price\n"
      ],
      "execution_count": 5,
      "outputs": [
        {
          "output_type": "execute_result",
          "data": {
            "text/plain": [
              "(<tf.Tensor: shape=(3,), dtype=string, numpy=array([b'bedroom', b'bathroom', b'garage'], dtype=object)>,\n",
              " <tf.Tensor: shape=(1,), dtype=int32, numpy=array([939700])>)"
            ]
          },
          "metadata": {
            "tags": []
          },
          "execution_count": 5
        }
      ]
    },
    {
      "cell_type": "code",
      "metadata": {
        "colab": {
          "base_uri": "https://localhost:8080/"
        },
        "id": "EVkXiQCOtYBM",
        "outputId": "a426305d-42ef-481a-ce44-a0aefb2e0e56"
      },
      "source": [
        "X[0], y[0]"
      ],
      "execution_count": 6,
      "outputs": [
        {
          "output_type": "execute_result",
          "data": {
            "text/plain": [
              "(-7.0, 3.0)"
            ]
          },
          "metadata": {
            "tags": []
          },
          "execution_count": 6
        }
      ]
    },
    {
      "cell_type": "code",
      "metadata": {
        "colab": {
          "base_uri": "https://localhost:8080/"
        },
        "id": "639b7Fs6tYGH",
        "outputId": "d33bdcb8-1689-4b51-f65d-562f8d2327db"
      },
      "source": [
        "X[1], y[1]"
      ],
      "execution_count": 7,
      "outputs": [
        {
          "output_type": "execute_result",
          "data": {
            "text/plain": [
              "(-4.0, 6.0)"
            ]
          },
          "metadata": {
            "tags": []
          },
          "execution_count": 7
        }
      ]
    },
    {
      "cell_type": "code",
      "metadata": {
        "colab": {
          "base_uri": "https://localhost:8080/"
        },
        "id": "_Wti38kks6t0",
        "outputId": "3b3d97c1-be81-4088-cd22-5564b26190e5"
      },
      "source": [
        "input_shape = X[0].shape\n",
        "output_shape = y[0].shape\n",
        "input_shape, output_shape"
      ],
      "execution_count": 8,
      "outputs": [
        {
          "output_type": "execute_result",
          "data": {
            "text/plain": [
              "((), ())"
            ]
          },
          "metadata": {
            "tags": []
          },
          "execution_count": 8
        }
      ]
    },
    {
      "cell_type": "code",
      "metadata": {
        "colab": {
          "base_uri": "https://localhost:8080/"
        },
        "id": "RMIufM0ztQb9",
        "outputId": "67413b41-fe3c-4bc1-ecc3-0ac2f23e6ed3"
      },
      "source": [
        "X[0].ndim"
      ],
      "execution_count": 9,
      "outputs": [
        {
          "output_type": "execute_result",
          "data": {
            "text/plain": [
              "0"
            ]
          },
          "metadata": {
            "tags": []
          },
          "execution_count": 9
        }
      ]
    },
    {
      "cell_type": "markdown",
      "metadata": {
        "id": "CvYyM36atoqS"
      },
      "source": [
        " in simple words we are going to use 1 x to predict 1 y\n"
      ]
    },
    {
      "cell_type": "code",
      "metadata": {
        "colab": {
          "base_uri": "https://localhost:8080/"
        },
        "id": "taOHR8LkuCZd",
        "outputId": "cc24a301-4201-496b-c9dc-c18d25ef8bd3"
      },
      "source": [
        "#Turn our NumPy arrays into tensors\n",
        "X = tf.constant(X)\n",
        "y = tf.constant(y)\n",
        "X, y"
      ],
      "execution_count": 10,
      "outputs": [
        {
          "output_type": "execute_result",
          "data": {
            "text/plain": [
              "(<tf.Tensor: shape=(8,), dtype=float64, numpy=array([-7., -4., -1.,  2.,  5.,  8., 11., 14.])>,\n",
              " <tf.Tensor: shape=(8,), dtype=float64, numpy=array([ 3.,  6.,  9., 12., 15., 18., 21., 24.])>)"
            ]
          },
          "metadata": {
            "tags": []
          },
          "execution_count": 10
        }
      ]
    },
    {
      "cell_type": "code",
      "metadata": {
        "colab": {
          "base_uri": "https://localhost:8080/"
        },
        "id": "k6O5lQH0uPWg",
        "outputId": "cfe06f6d-6d71-4dee-9384-150e1ecf0650"
      },
      "source": [
        "input_shape = X[0].shape\n",
        "output_shape = y[0].shape\n",
        "input_shape, output_shape"
      ],
      "execution_count": 11,
      "outputs": [
        {
          "output_type": "execute_result",
          "data": {
            "text/plain": [
              "(TensorShape([]), TensorShape([]))"
            ]
          },
          "metadata": {
            "tags": []
          },
          "execution_count": 11
        }
      ]
    },
    {
      "cell_type": "code",
      "metadata": {
        "colab": {
          "base_uri": "https://localhost:8080/",
          "height": 0
        },
        "id": "s35W0IRBuVXX",
        "outputId": "7f5ffe3d-58a1-4a86-9b97-7bf4dd26ffa1"
      },
      "source": [
        "plt.scatter(X, y)"
      ],
      "execution_count": 12,
      "outputs": [
        {
          "output_type": "execute_result",
          "data": {
            "text/plain": [
              "<matplotlib.collections.PathCollection at 0x1b5857e8220>"
            ]
          },
          "metadata": {
            "tags": []
          },
          "execution_count": 12
        },
        {
          "output_type": "display_data",
          "data": {
            "text/plain": [
              "<Figure size 432x288 with 1 Axes>"
            ],
            "image/png": "[encoded data removed]"
          },
          "metadata": {
            "tags": [],
            "needs_background": "light"
          }
        }
      ]
    },
    {
      "cell_type": "markdown",
      "metadata": {
        "id": "-cpIi3r9ucIK"
      },
      "source": [
        "## Steps in modelling with tensorflow\n",
        "\n",
        "1. **Creating a model** - define the input and output layers, as well as the hiddem layers of a deep learning mode.\n",
        "2. **Compiling a model** - define the loss function( in other words, the function which tells our model how wrong it is) and the optimizer (tells our model how to improve the patterns) and evaluation metrics( what we can use to interpret the performance of our model).\n",
        "3.**Fitting a model** - letting the model try to find patterns between X and Y (features and labels)."
      ]
    },
    {
      "cell_type": "code",
      "metadata": {
        "colab": {
          "base_uri": "https://localhost:8080/"
        },
        "id": "dCmxCxhcvjyM",
        "outputId": "ce6fb2e4-9301-4485-8ef0-71b21ab238b7"
      },
      "source": [
        "# Set random seed\n",
        "tf.random.set_seed(42)\n",
        "\n",
        "# 1. Create a model using the Sequential API\n",
        "model = tf.keras.Sequential(\n",
        "    [\n",
        "                             tf.keras.layers.Dense(1)\n",
        "    ])\n",
        "\n",
        "# 2. compilethe model\n",
        "model.compile( loss = tf.keras.losses.mae,\n",
        "              optimizer = tf.keras.optimizers.SGD(),\n",
        "              metrics = [\"mae\"]) # mae is short for mean absolute error)\n",
        "\n",
        "# 3. Fit the model\n",
        "model.fit(X, y, epochs= 5)"
      ],
      "execution_count": 13,
      "outputs": [
        {
          "output_type": "stream",
          "text": [
            "Epoch 1/5\n",
            "1/1 [==============================] - 1s 669ms/step - loss: 11.5048 - mae: 11.5048\n",
            "Epoch 2/5\n",
            "1/1 [==============================] - 0s 2ms/step - loss: 11.3723 - mae: 11.3723\n",
            "Epoch 3/5\n",
            "1/1 [==============================] - 0s 2ms/step - loss: 11.2398 - mae: 11.2398\n",
            "Epoch 4/5\n",
            "1/1 [==============================] - 0s 2ms/step - loss: 11.1073 - mae: 11.1073\n",
            "Epoch 5/5\n",
            "1/1 [==============================] - 0s 2ms/step - loss: 10.9748 - mae: 10.9748\n"
          ],
          "name": "stdout"
        },
        {
          "output_type": "execute_result",
          "data": {
            "text/plain": [
              "<tensorflow.python.keras.callbacks.History at 0x1b5dec9e7f0>"
            ]
          },
          "metadata": {
            "tags": []
          },
          "execution_count": 13
        }
      ]
    },
    {
      "cell_type": "code",
      "metadata": {
        "colab": {
          "base_uri": "https://localhost:8080/"
        },
        "id": "oRMCC0b_yf0-",
        "outputId": "ae8ebf2c-f6aa-47ea-f4f1-952e28056f28"
      },
      "source": [
        "# check out X and y\n",
        "X, y"
      ],
      "execution_count": 14,
      "outputs": [
        {
          "output_type": "execute_result",
          "data": {
            "text/plain": [
              "(<tf.Tensor: shape=(8,), dtype=float64, numpy=array([-7., -4., -1.,  2.,  5.,  8., 11., 14.])>,\n",
              " <tf.Tensor: shape=(8,), dtype=float64, numpy=array([ 3.,  6.,  9., 12., 15., 18., 21., 24.])>)"
            ]
          },
          "metadata": {
            "tags": []
          },
          "execution_count": 14
        }
      ]
    },
    {
      "cell_type": "code",
      "metadata": {
        "colab": {
          "base_uri": "https://localhost:8080/"
        },
        "id": "bYAR-IkmbsJJ",
        "outputId": "631a3d95-435c-4ac7-db3f-b5bca51be08d"
      },
      "source": [
        "# Try to make a prediction using our model\n",
        "y_pred = model.predict([17.0])\n",
        "y_pred"
      ],
      "execution_count": 15,
      "outputs": [
        {
          "output_type": "execute_result",
          "data": {
            "text/plain": [
              "array([[12.716021]], dtype=float32)"
            ]
          },
          "metadata": {
            "tags": []
          },
          "execution_count": 15
        }
      ]
    },
    {
      "cell_type": "code",
      "metadata": {
        "colab": {
          "base_uri": "https://localhost:8080/"
        },
        "id": "2Hooc9qPbwCA",
        "outputId": "94f14494-ceb6-4b81-dd29-97659fecd99b"
      },
      "source": [
        "y_pred + 11"
      ],
      "execution_count": 16,
      "outputs": [
        {
          "output_type": "execute_result",
          "data": {
            "text/plain": [
              "array([[23.71602]], dtype=float32)"
            ]
          },
          "metadata": {
            "tags": []
          },
          "execution_count": 16
        }
      ]
    },
    {
      "cell_type": "markdown",
      "metadata": {
        "id": "ofgKfJKlci2P"
      },
      "source": [
        "## Improving our model\n",
        "\n",
        "we can improve our model by altering the steps we took to create a model.\n",
        "\n",
        "1. **Creating a model** - here we might can add more layers, increase the number of hidden units\n",
        "( also called neurons) within each of the hidden layers, change the activation function of each layer.\n",
        "2. **Compiling the model**- here we might change the optimization function or prehaps the **learning rate** of the optimization function.\n",
        "3.**Fitting a model** - here we might fit a model for more **epochs** ( leave it training for longer ) or on more data."
      ]
    },
    {
      "cell_type": "code",
      "metadata": {
        "colab": {
          "base_uri": "https://localhost:8080/"
        },
        "id": "d4U8A5DEcs0N",
        "outputId": "11db7359-1a6e-44d4-bcc2-5eae40427ba6"
      },
      "source": [
        "# Lets rebuild our model\n",
        "tf.random.set_seed(42)\n",
        "# 1. create a model\n",
        "model = tf.keras.Sequential([\n",
        "                             tf.keras.layers.Dense(1)\n",
        "])\n",
        "\n",
        "# 2. Compile the model\n",
        "model.compile(loss = tf.keras.losses.mae,\n",
        "              optimizer = tf.keras.optimizers.SGD(),\n",
        "              metrics = [\"mae\"])\n",
        "\n",
        "# fit the model (this time we will train it for longer)\n",
        "model.fit(X, y, epochs = 100)\n"
      ],
      "execution_count": 17,
      "outputs": [
        {
          "output_type": "stream",
          "text": [
            "Epoch 1/100\n",
            "1/1 [==============================] - 0s 215ms/step - loss: 11.5048 - mae: 11.5048\n",
            "Epoch 2/100\n",
            "1/1 [==============================] - 0s 4ms/step - loss: 11.3723 - mae: 11.3723\n",
            "Epoch 3/100\n",
            "1/1 [==============================] - 0s 3ms/step - loss: 11.2398 - mae: 11.2398\n",
            "Epoch 4/100\n",
            "1/1 [==============================] - 0s 2ms/step - loss: 11.1073 - mae: 11.1073\n",
            "Epoch 5/100\n",
            "1/1 [==============================] - 0s 2ms/step - loss: 10.9748 - mae: 10.9748\n",
            "Epoch 6/100\n",
            "1/1 [==============================] - 0s 2ms/step - loss: 10.8423 - mae: 10.8423\n",
            "Epoch 7/100\n",
            "1/1 [==============================] - 0s 2ms/step - loss: 10.7098 - mae: 10.7098\n",
            "Epoch 8/100\n",
            "1/1 [==============================] - 0s 2ms/step - loss: 10.5773 - mae: 10.5773\n",
            "Epoch 9/100\n",
            "1/1 [==============================] - 0s 3ms/step - loss: 10.4448 - mae: 10.4448\n",
            "Epoch 10/100\n",
            "1/1 [==============================] - 0s 2ms/step - loss: 10.3123 - mae: 10.3123\n",
            "Epoch 11/100\n",
            "1/1 [==============================] - 0s 997us/step - loss: 10.1798 - mae: 10.1798\n",
            "Epoch 12/100\n",
            "1/1 [==============================] - 0s 2ms/step - loss: 10.0473 - mae: 10.0473\n",
            "Epoch 13/100\n",
            "1/1 [==============================] - 0s 2ms/step - loss: 9.9148 - mae: 9.9148\n",
            "Epoch 14/100\n",
            "1/1 [==============================] - 0s 3ms/step - loss: 9.7823 - mae: 9.7823\n",
            "Epoch 15/100\n",
            "1/1 [==============================] - 0s 2ms/step - loss: 9.6498 - mae: 9.6498\n",
            "Epoch 16/100\n",
            "1/1 [==============================] - 0s 2ms/step - loss: 9.5173 - mae: 9.5173\n",
            "Epoch 17/100\n",
            "1/1 [==============================] - 0s 3ms/step - loss: 9.3848 - mae: 9.3848\n",
            "Epoch 18/100\n",
            "1/1 [==============================] - 0s 2ms/step - loss: 9.2523 - mae: 9.2523\n",
            "Epoch 19/100\n",
            "1/1 [==============================] - 0s 2ms/step - loss: 9.1198 - mae: 9.1198\n",
            "Epoch 20/100\n",
            "1/1 [==============================] - 0s 2ms/step - loss: 8.9873 - mae: 8.9873\n",
            "Epoch 21/100\n",
            "1/1 [==============================] - 0s 2ms/step - loss: 8.8548 - mae: 8.8548\n",
            "Epoch 22/100\n",
            "1/1 [==============================] - 0s 2ms/step - loss: 8.7223 - mae: 8.7223\n",
            "Epoch 23/100\n",
            "1/1 [==============================] - 0s 2ms/step - loss: 8.5898 - mae: 8.5898\n",
            "Epoch 24/100\n",
            "1/1 [==============================] - 0s 3ms/step - loss: 8.4573 - mae: 8.4573\n",
            "Epoch 25/100\n",
            "1/1 [==============================] - 0s 2ms/step - loss: 8.3248 - mae: 8.3248\n",
            "Epoch 26/100\n",
            "1/1 [==============================] - 0s 2ms/step - loss: 8.1923 - mae: 8.1923\n",
            "Epoch 27/100\n",
            "1/1 [==============================] - 0s 2ms/step - loss: 8.0598 - mae: 8.0598\n",
            "Epoch 28/100\n",
            "1/1 [==============================] - 0s 2ms/step - loss: 7.9273 - mae: 7.9273\n",
            "Epoch 29/100\n",
            "1/1 [==============================] - 0s 2ms/step - loss: 7.7948 - mae: 7.7948\n",
            "Epoch 30/100\n",
            "1/1 [==============================] - 0s 2ms/step - loss: 7.6623 - mae: 7.6623\n",
            "Epoch 31/100\n",
            "1/1 [==============================] - 0s 2ms/step - loss: 7.5298 - mae: 7.5298\n",
            "Epoch 32/100\n",
            "1/1 [==============================] - 0s 2ms/step - loss: 7.3973 - mae: 7.3973\n",
            "Epoch 33/100\n",
            "1/1 [==============================] - 0s 2ms/step - loss: 7.2648 - mae: 7.2648\n",
            "Epoch 34/100\n",
            "1/1 [==============================] - 0s 2ms/step - loss: 7.2525 - mae: 7.2525\n",
            "Epoch 35/100\n",
            "1/1 [==============================] - 0s 2ms/step - loss: 7.2469 - mae: 7.2469\n",
            "Epoch 36/100\n",
            "1/1 [==============================] - 0s 2ms/step - loss: 7.2413 - mae: 7.2413\n",
            "Epoch 37/100\n",
            "1/1 [==============================] - 0s 2ms/step - loss: 7.2356 - mae: 7.2356\n",
            "Epoch 38/100\n",
            "1/1 [==============================] - 0s 2ms/step - loss: 7.2300 - mae: 7.2300\n",
            "Epoch 39/100\n",
            "1/1 [==============================] - 0s 2ms/step - loss: 7.2244 - mae: 7.2244\n",
            "Epoch 40/100\n",
            "1/1 [==============================] - 0s 2ms/step - loss: 7.2188 - mae: 7.2188\n",
            "Epoch 41/100\n",
            "1/1 [==============================] - 0s 2ms/step - loss: 7.2131 - mae: 7.2131\n",
            "Epoch 42/100\n",
            "1/1 [==============================] - 0s 3ms/step - loss: 7.2075 - mae: 7.2075\n",
            "Epoch 43/100\n",
            "1/1 [==============================] - 0s 2ms/step - loss: 7.2019 - mae: 7.2019\n",
            "Epoch 44/100\n",
            "1/1 [==============================] - 0s 2ms/step - loss: 7.1962 - mae: 7.1962\n",
            "Epoch 45/100\n",
            "1/1 [==============================] - 0s 3ms/step - loss: 7.1906 - mae: 7.1906\n",
            "Epoch 46/100\n",
            "1/1 [==============================] - 0s 2ms/step - loss: 7.1850 - mae: 7.1850\n",
            "Epoch 47/100\n",
            "1/1 [==============================] - 0s 2ms/step - loss: 7.1794 - mae: 7.1794\n",
            "Epoch 48/100\n",
            "1/1 [==============================] - 0s 2ms/step - loss: 7.1738 - mae: 7.1738\n",
            "Epoch 49/100\n",
            "1/1 [==============================] - 0s 2ms/step - loss: 7.1681 - mae: 7.1681\n",
            "Epoch 50/100\n",
            "1/1 [==============================] - 0s 2ms/step - loss: 7.1625 - mae: 7.1625\n",
            "Epoch 51/100\n",
            "1/1 [==============================] - 0s 2ms/step - loss: 7.1569 - mae: 7.1569\n",
            "Epoch 52/100\n",
            "1/1 [==============================] - 0s 2ms/step - loss: 7.1512 - mae: 7.1512\n",
            "Epoch 53/100\n",
            "1/1 [==============================] - 0s 2ms/step - loss: 7.1456 - mae: 7.1456\n",
            "Epoch 54/100\n",
            "1/1 [==============================] - 0s 2ms/step - loss: 7.1400 - mae: 7.1400\n",
            "Epoch 55/100\n",
            "1/1 [==============================] - 0s 2ms/step - loss: 7.1344 - mae: 7.1344\n",
            "Epoch 56/100\n",
            "1/1 [==============================] - 0s 2ms/step - loss: 7.1287 - mae: 7.1287\n",
            "Epoch 57/100\n",
            "1/1 [==============================] - 0s 2ms/step - loss: 7.1231 - mae: 7.1231\n",
            "Epoch 58/100\n",
            "1/1 [==============================] - 0s 2ms/step - loss: 7.1175 - mae: 7.1175\n",
            "Epoch 59/100\n",
            "1/1 [==============================] - 0s 2ms/step - loss: 7.1119 - mae: 7.1119\n",
            "Epoch 60/100\n",
            "1/1 [==============================] - 0s 2ms/step - loss: 7.1063 - mae: 7.1063\n",
            "Epoch 61/100\n",
            "1/1 [==============================] - 0s 2ms/step - loss: 7.1006 - mae: 7.1006\n",
            "Epoch 62/100\n",
            "1/1 [==============================] - 0s 2ms/step - loss: 7.0950 - mae: 7.0950\n",
            "Epoch 63/100\n",
            "1/1 [==============================] - 0s 2ms/step - loss: 7.0894 - mae: 7.0894\n",
            "Epoch 64/100\n",
            "1/1 [==============================] - 0s 996us/step - loss: 7.0838 - mae: 7.0838\n",
            "Epoch 65/100\n",
            "1/1 [==============================] - 0s 996us/step - loss: 7.0781 - mae: 7.0781\n",
            "Epoch 66/100\n",
            "1/1 [==============================] - 0s 2ms/step - loss: 7.0725 - mae: 7.0725\n",
            "Epoch 67/100\n",
            "1/1 [==============================] - 0s 3ms/step - loss: 7.0669 - mae: 7.0669\n",
            "Epoch 68/100\n",
            "1/1 [==============================] - 0s 2ms/step - loss: 7.0613 - mae: 7.0613\n",
            "Epoch 69/100\n",
            "1/1 [==============================] - 0s 5ms/step - loss: 7.0556 - mae: 7.0556\n",
            "Epoch 70/100\n",
            "1/1 [==============================] - 0s 3ms/step - loss: 7.0500 - mae: 7.0500\n",
            "Epoch 71/100\n",
            "1/1 [==============================] - 0s 3ms/step - loss: 7.0444 - mae: 7.0444\n",
            "Epoch 72/100\n",
            "1/1 [==============================] - 0s 3ms/step - loss: 7.0388 - mae: 7.0388\n",
            "Epoch 73/100\n",
            "1/1 [==============================] - 0s 3ms/step - loss: 7.0331 - mae: 7.0331\n",
            "Epoch 74/100\n",
            "1/1 [==============================] - 0s 3ms/step - loss: 7.0275 - mae: 7.0275\n",
            "Epoch 75/100\n",
            "1/1 [==============================] - 0s 3ms/step - loss: 7.0219 - mae: 7.0219\n",
            "Epoch 76/100\n",
            "1/1 [==============================] - 0s 3ms/step - loss: 7.0163 - mae: 7.0163\n",
            "Epoch 77/100\n",
            "1/1 [==============================] - 0s 3ms/step - loss: 7.0106 - mae: 7.0106\n",
            "Epoch 78/100\n",
            "1/1 [==============================] - 0s 3ms/step - loss: 7.0050 - mae: 7.0050\n",
            "Epoch 79/100\n",
            "1/1 [==============================] - 0s 2ms/step - loss: 6.9994 - mae: 6.9994\n",
            "Epoch 80/100\n",
            "1/1 [==============================] - 0s 2ms/step - loss: 6.9938 - mae: 6.9938\n",
            "Epoch 81/100\n",
            "1/1 [==============================] - 0s 3ms/step - loss: 6.9881 - mae: 6.9881\n",
            "Epoch 82/100\n",
            "1/1 [==============================] - 0s 3ms/step - loss: 6.9825 - mae: 6.9825\n",
            "Epoch 83/100\n",
            "1/1 [==============================] - 0s 2ms/step - loss: 6.9769 - mae: 6.9769\n",
            "Epoch 84/100\n",
            "1/1 [==============================] - 0s 3ms/step - loss: 6.9713 - mae: 6.9713\n",
            "Epoch 85/100\n",
            "1/1 [==============================] - 0s 2ms/step - loss: 6.9656 - mae: 6.9656\n",
            "Epoch 86/100\n",
            "1/1 [==============================] - 0s 2ms/step - loss: 6.9600 - mae: 6.9600\n",
            "Epoch 87/100\n",
            "1/1 [==============================] - 0s 2ms/step - loss: 6.9544 - mae: 6.9544\n",
            "Epoch 88/100\n",
            "1/1 [==============================] - 0s 2ms/step - loss: 6.9488 - mae: 6.9488\n",
            "Epoch 89/100\n",
            "1/1 [==============================] - 0s 2ms/step - loss: 6.9431 - mae: 6.9431\n",
            "Epoch 90/100\n",
            "1/1 [==============================] - 0s 2ms/step - loss: 6.9375 - mae: 6.9375\n",
            "Epoch 91/100\n",
            "1/1 [==============================] - 0s 2ms/step - loss: 6.9319 - mae: 6.9319\n",
            "Epoch 92/100\n",
            "1/1 [==============================] - 0s 2ms/step - loss: 6.9263 - mae: 6.9263\n",
            "Epoch 93/100\n",
            "1/1 [==============================] - 0s 2ms/step - loss: 6.9206 - mae: 6.9206\n",
            "Epoch 94/100\n",
            "1/1 [==============================] - 0s 2ms/step - loss: 6.9150 - mae: 6.9150\n",
            "Epoch 95/100\n",
            "1/1 [==============================] - 0s 996us/step - loss: 6.9094 - mae: 6.9094\n",
            "Epoch 96/100\n",
            "1/1 [==============================] - 0s 2ms/step - loss: 6.9038 - mae: 6.9038\n",
            "Epoch 97/100\n",
            "1/1 [==============================] - 0s 2ms/step - loss: 6.8981 - mae: 6.8981\n",
            "Epoch 98/100\n",
            "1/1 [==============================] - 0s 2ms/step - loss: 6.8925 - mae: 6.8925\n",
            "Epoch 99/100\n",
            "1/1 [==============================] - 0s 2ms/step - loss: 6.8869 - mae: 6.8869\n",
            "Epoch 100/100\n",
            "1/1 [==============================] - 0s 2ms/step - loss: 6.8813 - mae: 6.8813\n"
          ],
          "name": "stdout"
        },
        {
          "output_type": "execute_result",
          "data": {
            "text/plain": [
              "<tensorflow.python.keras.callbacks.History at 0x1b5eea32850>"
            ]
          },
          "metadata": {
            "tags": []
          },
          "execution_count": 17
        }
      ]
    },
    {
      "cell_type": "code",
      "metadata": {
        "colab": {
          "base_uri": "https://localhost:8080/"
        },
        "id": "IVYHImjtjkby",
        "outputId": "c66760f5-5e41-4e0f-8091-4e1d2fdeb1b1"
      },
      "source": [
        "# Remind ourselves of the data\n",
        "X, y"
      ],
      "execution_count": 18,
      "outputs": [
        {
          "output_type": "execute_result",
          "data": {
            "text/plain": [
              "(<tf.Tensor: shape=(8,), dtype=float64, numpy=array([-7., -4., -1.,  2.,  5.,  8., 11., 14.])>,\n",
              " <tf.Tensor: shape=(8,), dtype=float64, numpy=array([ 3.,  6.,  9., 12., 15., 18., 21., 24.])>)"
            ]
          },
          "metadata": {
            "tags": []
          },
          "execution_count": 18
        }
      ]
    },
    {
      "cell_type": "code",
      "metadata": {
        "colab": {
          "base_uri": "https://localhost:8080/"
        },
        "id": "zsgB-8Hij6eJ",
        "outputId": "907c5ec3-8479-4e8c-e3af-a619b4d2fb8c"
      },
      "source": [
        "# Lets see if our model's prediction has improved\n",
        "model.predict([17.0])"
      ],
      "execution_count": 19,
      "outputs": [
        {
          "output_type": "execute_result",
          "data": {
            "text/plain": [
              "array([[30.158512]], dtype=float32)"
            ]
          },
          "metadata": {
            "tags": []
          },
          "execution_count": 19
        }
      ]
    },
    {
      "cell_type": "code",
      "metadata": {
        "colab": {
          "base_uri": "https://localhost:8080/"
        },
        "id": "dLHFYvRBkBl8",
        "outputId": "742b5026-f7ca-430f-cf75-8b5aa144a9f0"
      },
      "source": [
        "# lets see what we can do to improve it futher\n",
        "\n",
        "# 1. create the model ( this time with an extra hidden layer with 100 hidden units )\n",
        "model = tf.keras.Sequential([\n",
        "                             tf.keras.layers.Dense(100, activation = \"relu\"),\n",
        "                            tf.keras.layers.Dense(1)\n",
        "])\n",
        "\n",
        "# 2 . compiling the model \n",
        "model.compile(optimizer = tf.keras.optimizers.SGD(),\n",
        "              loss = tf.keras.losses.mae,\n",
        "              metrics = [\"mae\"])\n",
        "\n",
        "# 3. fitting the model\n",
        "model.fit(X, y, epochs = 100)"
      ],
      "execution_count": 30,
      "outputs": [
        {
          "output_type": "stream",
          "text": [
            "Epoch 1/100\n",
            "1/1 [==============================] - 0s 255ms/step - loss: 14.1372 - mae: 14.1372\n",
            "Epoch 2/100\n",
            "1/1 [==============================] - 0s 3ms/step - loss: 13.5698 - mae: 13.5698\n",
            "Epoch 3/100\n",
            "1/1 [==============================] - 0s 2ms/step - loss: 13.0048 - mae: 13.0048\n",
            "Epoch 4/100\n",
            "1/1 [==============================] - 0s 3ms/step - loss: 12.4368 - mae: 12.4368\n",
            "Epoch 5/100\n",
            "1/1 [==============================] - 0s 3ms/step - loss: 11.8608 - mae: 11.8608\n",
            "Epoch 6/100\n",
            "1/1 [==============================] - 0s 3ms/step - loss: 11.2935 - mae: 11.2935\n",
            "Epoch 7/100\n",
            "1/1 [==============================] - 0s 3ms/step - loss: 10.7074 - mae: 10.7074\n",
            "Epoch 8/100\n",
            "1/1 [==============================] - 0s 6ms/step - loss: 10.0981 - mae: 10.0981\n",
            "Epoch 9/100\n",
            "1/1 [==============================] - 0s 3ms/step - loss: 9.4610 - mae: 9.4610\n",
            "Epoch 10/100\n",
            "1/1 [==============================] - 0s 2ms/step - loss: 8.7979 - mae: 8.7979\n",
            "Epoch 11/100\n",
            "1/1 [==============================] - 0s 3ms/step - loss: 8.0974 - mae: 8.0974\n",
            "Epoch 12/100\n",
            "1/1 [==============================] - 0s 2ms/step - loss: 7.3505 - mae: 7.3505\n",
            "Epoch 13/100\n",
            "1/1 [==============================] - 0s 2ms/step - loss: 6.5517 - mae: 6.5517\n",
            "Epoch 14/100\n",
            "1/1 [==============================] - 0s 2ms/step - loss: 5.7001 - mae: 5.7001\n",
            "Epoch 15/100\n",
            "1/1 [==============================] - 0s 5ms/step - loss: 4.7843 - mae: 4.7843\n",
            "Epoch 16/100\n",
            "1/1 [==============================] - 0s 3ms/step - loss: 4.0774 - mae: 4.0774\n",
            "Epoch 17/100\n",
            "1/1 [==============================] - 0s 2ms/step - loss: 3.9669 - mae: 3.9669\n",
            "Epoch 18/100\n",
            "1/1 [==============================] - 0s 4ms/step - loss: 3.9106 - mae: 3.9106\n",
            "Epoch 19/100\n",
            "1/1 [==============================] - 0s 5ms/step - loss: 3.9413 - mae: 3.9413\n",
            "Epoch 20/100\n",
            "1/1 [==============================] - 0s 3ms/step - loss: 3.9171 - mae: 3.9171\n",
            "Epoch 21/100\n",
            "1/1 [==============================] - 0s 3ms/step - loss: 3.9157 - mae: 3.9157\n",
            "Epoch 22/100\n",
            "1/1 [==============================] - 0s 3ms/step - loss: 3.9266 - mae: 3.9266\n",
            "Epoch 23/100\n",
            "1/1 [==============================] - 0s 3ms/step - loss: 3.8985 - mae: 3.8985\n",
            "Epoch 24/100\n",
            "1/1 [==============================] - 0s 3ms/step - loss: 3.9395 - mae: 3.9395\n",
            "Epoch 25/100\n",
            "1/1 [==============================] - 0s 4ms/step - loss: 3.8725 - mae: 3.8725\n",
            "Epoch 26/100\n",
            "1/1 [==============================] - 0s 2ms/step - loss: 3.9462 - mae: 3.9462\n",
            "Epoch 27/100\n",
            "1/1 [==============================] - 0s 2ms/step - loss: 3.8786 - mae: 3.8786\n",
            "Epoch 28/100\n",
            "1/1 [==============================] - 0s 2ms/step - loss: 3.9199 - mae: 3.9199\n",
            "Epoch 29/100\n",
            "1/1 [==============================] - 0s 3ms/step - loss: 3.8853 - mae: 3.8853\n",
            "Epoch 30/100\n",
            "1/1 [==============================] - 0s 4ms/step - loss: 3.8963 - mae: 3.8963\n",
            "Epoch 31/100\n",
            "1/1 [==============================] - 0s 2ms/step - loss: 3.9013 - mae: 3.9013\n",
            "Epoch 32/100\n",
            "1/1 [==============================] - 0s 3ms/step - loss: 3.8765 - mae: 3.8765\n",
            "Epoch 33/100\n",
            "1/1 [==============================] - 0s 3ms/step - loss: 3.9081 - mae: 3.9081\n",
            "Epoch 34/100\n",
            "1/1 [==============================] - 0s 2ms/step - loss: 3.8503 - mae: 3.8503\n",
            "Epoch 35/100\n",
            "1/1 [==============================] - 0s 2ms/step - loss: 3.9150 - mae: 3.9150\n",
            "Epoch 36/100\n",
            "1/1 [==============================] - 0s 3ms/step - loss: 3.8478 - mae: 3.8478\n",
            "Epoch 37/100\n",
            "1/1 [==============================] - 0s 5ms/step - loss: 3.8972 - mae: 3.8972\n",
            "Epoch 38/100\n",
            "1/1 [==============================] - 0s 3ms/step - loss: 3.8556 - mae: 3.8556\n",
            "Epoch 39/100\n",
            "1/1 [==============================] - 0s 3ms/step - loss: 3.8797 - mae: 3.8797\n",
            "Epoch 40/100\n",
            "1/1 [==============================] - 0s 5ms/step - loss: 3.8708 - mae: 3.8708\n",
            "Epoch 41/100\n",
            "1/1 [==============================] - 0s 3ms/step - loss: 3.8532 - mae: 3.8532\n",
            "Epoch 42/100\n",
            "1/1 [==============================] - 0s 5ms/step - loss: 3.8778 - mae: 3.8778\n",
            "Epoch 43/100\n",
            "1/1 [==============================] - 0s 3ms/step - loss: 3.8267 - mae: 3.8267\n",
            "Epoch 44/100\n",
            "1/1 [==============================] - 0s 14ms/step - loss: 3.8849 - mae: 3.8849\n",
            "Epoch 45/100\n",
            "1/1 [==============================] - 0s 3ms/step - loss: 3.8182 - mae: 3.8182\n",
            "Epoch 46/100\n",
            "1/1 [==============================] - 0s 8ms/step - loss: 3.8734 - mae: 3.8734\n",
            "Epoch 47/100\n",
            "1/1 [==============================] - 0s 2ms/step - loss: 3.8344 - mae: 3.8344\n",
            "Epoch 48/100\n",
            "1/1 [==============================] - 0s 17ms/step - loss: 3.8553 - mae: 3.8553\n",
            "Epoch 49/100\n",
            "1/1 [==============================] - 0s 6ms/step - loss: 3.8415 - mae: 3.8415\n",
            "Epoch 50/100\n",
            "1/1 [==============================] - 0s 3ms/step - loss: 3.8287 - mae: 3.8287\n",
            "Epoch 51/100\n",
            "1/1 [==============================] - 0s 3ms/step - loss: 3.8486 - mae: 3.8486\n",
            "Epoch 52/100\n",
            "1/1 [==============================] - 0s 3ms/step - loss: 3.8019 - mae: 3.8019\n",
            "Epoch 53/100\n",
            "1/1 [==============================] - 0s 3ms/step - loss: 3.8560 - mae: 3.8560\n",
            "Epoch 54/100\n",
            "1/1 [==============================] - 0s 3ms/step - loss: 3.7896 - mae: 3.7896\n",
            "Epoch 55/100\n",
            "1/1 [==============================] - 0s 3ms/step - loss: 3.8558 - mae: 3.8558\n",
            "Epoch 56/100\n",
            "1/1 [==============================] - 0s 2ms/step - loss: 3.8060 - mae: 3.8060\n",
            "Epoch 57/100\n",
            "1/1 [==============================] - 0s 3ms/step - loss: 3.8298 - mae: 3.8298\n",
            "Epoch 58/100\n",
            "1/1 [==============================] - 0s 3ms/step - loss: 3.8133 - mae: 3.8133\n",
            "Epoch 59/100\n",
            "1/1 [==============================] - 0s 2ms/step - loss: 3.8028 - mae: 3.8028\n",
            "Epoch 60/100\n",
            "1/1 [==============================] - 0s 3ms/step - loss: 3.8206 - mae: 3.8206\n",
            "Epoch 61/100\n",
            "1/1 [==============================] - 0s 5ms/step - loss: 3.7758 - mae: 3.7758\n",
            "Epoch 62/100\n",
            "1/1 [==============================] - 0s 4ms/step - loss: 3.8282 - mae: 3.8282\n",
            "Epoch 63/100\n",
            "1/1 [==============================] - 0s 3ms/step - loss: 3.7684 - mae: 3.7684\n",
            "Epoch 64/100\n",
            "1/1 [==============================] - 0s 4ms/step - loss: 3.8300 - mae: 3.8300\n",
            "Epoch 65/100\n",
            "1/1 [==============================] - 0s 5ms/step - loss: 3.7787 - mae: 3.7787\n",
            "Epoch 66/100\n",
            "1/1 [==============================] - 0s 2ms/step - loss: 3.8029 - mae: 3.8029\n",
            "Epoch 67/100\n",
            "1/1 [==============================] - 0s 2ms/step - loss: 3.7861 - mae: 3.7861\n",
            "Epoch 68/100\n",
            "1/1 [==============================] - 0s 2ms/step - loss: 3.7757 - mae: 3.7757\n",
            "Epoch 69/100\n",
            "1/1 [==============================] - 0s 3ms/step - loss: 3.7937 - mae: 3.7937\n",
            "Epoch 70/100\n",
            "1/1 [==============================] - 0s 2ms/step - loss: 3.7483 - mae: 3.7483\n",
            "Epoch 71/100\n",
            "1/1 [==============================] - 0s 2ms/step - loss: 3.8062 - mae: 3.8062\n",
            "Epoch 72/100\n",
            "1/1 [==============================] - 0s 4ms/step - loss: 3.7449 - mae: 3.7449\n",
            "Epoch 73/100\n",
            "1/1 [==============================] - 0s 3ms/step - loss: 3.8021 - mae: 3.8021\n",
            "Epoch 74/100\n",
            "1/1 [==============================] - 0s 3ms/step - loss: 3.7524 - mae: 3.7524\n",
            "Epoch 75/100\n",
            "1/1 [==============================] - 0s 2ms/step - loss: 3.7747 - mae: 3.7747\n",
            "Epoch 76/100\n",
            "1/1 [==============================] - 0s 2ms/step - loss: 3.7600 - mae: 3.7600\n",
            "Epoch 77/100\n",
            "1/1 [==============================] - 0s 3ms/step - loss: 3.7472 - mae: 3.7472\n",
            "Epoch 78/100\n",
            "1/1 [==============================] - 0s 2ms/step - loss: 3.7678 - mae: 3.7678\n",
            "Epoch 79/100\n",
            "1/1 [==============================] - 0s 3ms/step - loss: 3.7232 - mae: 3.7232\n",
            "Epoch 80/100\n",
            "1/1 [==============================] - 0s 3ms/step - loss: 3.7850 - mae: 3.7850\n",
            "Epoch 81/100\n",
            "1/1 [==============================] - 0s 3ms/step - loss: 3.7194 - mae: 3.7194\n",
            "Epoch 82/100\n",
            "1/1 [==============================] - 0s 2ms/step - loss: 3.7728 - mae: 3.7728\n",
            "Epoch 83/100\n",
            "1/1 [==============================] - 0s 5ms/step - loss: 3.7271 - mae: 3.7271\n",
            "Epoch 84/100\n",
            "1/1 [==============================] - 0s 4ms/step - loss: 3.7451 - mae: 3.7451\n",
            "Epoch 85/100\n",
            "1/1 [==============================] - 0s 2ms/step - loss: 3.7350 - mae: 3.7350\n",
            "Epoch 86/100\n",
            "1/1 [==============================] - 0s 4ms/step - loss: 3.7174 - mae: 3.7174\n",
            "Epoch 87/100\n",
            "1/1 [==============================] - 0s 3ms/step - loss: 3.7449 - mae: 3.7449\n",
            "Epoch 88/100\n",
            "1/1 [==============================] - 0s 2ms/step - loss: 3.6980 - mae: 3.6980\n",
            "Epoch 89/100\n",
            "1/1 [==============================] - 0s 2ms/step - loss: 3.7603 - mae: 3.7603\n",
            "Epoch 90/100\n",
            "1/1 [==============================] - 0s 3ms/step - loss: 3.6949 - mae: 3.6949\n",
            "Epoch 91/100\n",
            "1/1 [==============================] - 0s 5ms/step - loss: 3.7423 - mae: 3.7423\n",
            "Epoch 92/100\n",
            "1/1 [==============================] - 0s 3ms/step - loss: 3.7028 - mae: 3.7028\n",
            "Epoch 93/100\n",
            "1/1 [==============================] - 0s 2ms/step - loss: 3.7143 - mae: 3.7143\n",
            "Epoch 94/100\n",
            "1/1 [==============================] - 0s 3ms/step - loss: 3.7109 - mae: 3.7109\n",
            "Epoch 95/100\n",
            "1/1 [==============================] - 0s 2ms/step - loss: 3.6869 - mae: 3.6869\n",
            "Epoch 96/100\n",
            "1/1 [==============================] - 0s 2ms/step - loss: 3.7283 - mae: 3.7283\n",
            "Epoch 97/100\n",
            "1/1 [==============================] - 0s 3ms/step - loss: 3.6664 - mae: 3.6664\n",
            "Epoch 98/100\n",
            "1/1 [==============================] - 0s 3ms/step - loss: 3.7365 - mae: 3.7365\n",
            "Epoch 99/100\n",
            "1/1 [==============================] - 0s 3ms/step - loss: 3.6713 - mae: 3.6713\n",
            "Epoch 100/100\n",
            "1/1 [==============================] - 0s 2ms/step - loss: 3.7104 - mae: 3.7104\n"
          ],
          "name": "stdout"
        },
        {
          "output_type": "execute_result",
          "data": {
            "text/plain": [
              "<tensorflow.python.keras.callbacks.History at 0x1b67c3a5760>"
            ]
          },
          "metadata": {
            "tags": []
          },
          "execution_count": 30
        }
      ]
    },
    {
      "cell_type": "code",
      "metadata": {
        "colab": {
          "base_uri": "https://localhost:8080/"
        },
        "id": "5wioYIP7mEsA",
        "outputId": "d295f030-bd27-4378-a225-c249782fa7d9"
      },
      "source": [
        "model.predict([17.0])"
      ],
      "execution_count": 31,
      "outputs": [
        {
          "output_type": "stream",
          "text": [
            "WARNING:tensorflow:5 out of the last 5 calls to <function Model.make_predict_function.<locals>.predict_function at 0x000001B67C159280> triggered tf.function retracing. Tracing is expensive and the excessive number of tracings could be due to (1) creating @tf.function repeatedly in a loop, (2) passing tensors with different shapes, (3) passing Python objects instead of tensors. For (1), please define your @tf.function outside of the loop. For (2), @tf.function has experimental_relax_shapes=True option that relaxes argument shapes that can avoid unnecessary retracing. For (3), please refer to https://www.tensorflow.org/guide/function#controlling_retracing and https://www.tensorflow.org/api_docs/python/tf/function for  more details.\n"
          ],
          "name": "stdout"
        },
        {
          "output_type": "execute_result",
          "data": {
            "text/plain": [
              "array([[32.351814]], dtype=float32)"
            ]
          },
          "metadata": {
            "tags": []
          },
          "execution_count": 31
        }
      ]
    },
    {
      "cell_type": "code",
      "metadata": {
        "colab": {
          "base_uri": "https://localhost:8080/"
        },
        "id": "WA-zrhjMnX_f",
        "outputId": "112351e9-b5c7-4a73-b3d5-046dde0bad99"
      },
      "source": [
        "# lets see what we can do to improve it futher\n",
        "\n",
        "# 1. create the model ( this time with an extra hidden layer with 100 hidden units )\n",
        "model = tf.keras.Sequential([\n",
        "                             tf.keras.layers.Dense(50, activation = None),\n",
        "                            tf.keras.layers.Dense(1)\n",
        "])\n",
        "\n",
        "# 2 . compiling the model \n",
        "model.compile(optimizer = tf.keras.optimizers.Adam(learning_rate= 0.01),\n",
        "              loss = tf.keras.losses.mae,\n",
        "              metrics = [\"mae\"])\n",
        "\n",
        "# 3. fitting the model\n",
        "model.fit(X, y, epochs = 100)"
      ],
      "execution_count": 38,
      "outputs": [
        {
          "output_type": "stream",
          "text": [
            "Epoch 1/100\n",
            "1/1 [==============================] - 0s 301ms/step - loss: 14.6943 - mae: 14.6943\n",
            "Epoch 2/100\n",
            "1/1 [==============================] - 0s 4ms/step - loss: 13.9952 - mae: 13.9952\n",
            "Epoch 3/100\n",
            "1/1 [==============================] - 0s 3ms/step - loss: 13.3017 - mae: 13.3017\n",
            "Epoch 4/100\n",
            "1/1 [==============================] - 0s 4ms/step - loss: 12.6121 - mae: 12.6121\n",
            "Epoch 5/100\n",
            "1/1 [==============================] - 0s 5ms/step - loss: 11.9240 - mae: 11.9240\n",
            "Epoch 6/100\n",
            "1/1 [==============================] - 0s 3ms/step - loss: 11.2345 - mae: 11.2345\n",
            "Epoch 7/100\n",
            "1/1 [==============================] - 0s 3ms/step - loss: 10.5401 - mae: 10.5401\n",
            "Epoch 8/100\n",
            "1/1 [==============================] - 0s 3ms/step - loss: 9.8381 - mae: 9.8381\n",
            "Epoch 9/100\n",
            "1/1 [==============================] - 0s 2ms/step - loss: 9.1255 - mae: 9.1255\n",
            "Epoch 10/100\n",
            "1/1 [==============================] - 0s 2ms/step - loss: 8.3998 - mae: 8.3998\n",
            "Epoch 11/100\n",
            "1/1 [==============================] - 0s 3ms/step - loss: 7.6583 - mae: 7.6583\n",
            "Epoch 12/100\n",
            "1/1 [==============================] - 0s 5ms/step - loss: 6.8982 - mae: 6.8982\n",
            "Epoch 13/100\n",
            "1/1 [==============================] - 0s 3ms/step - loss: 6.6288 - mae: 6.6288\n",
            "Epoch 14/100\n",
            "1/1 [==============================] - 0s 2ms/step - loss: 6.9826 - mae: 6.9826\n",
            "Epoch 15/100\n",
            "1/1 [==============================] - 0s 3ms/step - loss: 7.3017 - mae: 7.3017\n",
            "Epoch 16/100\n",
            "1/1 [==============================] - 0s 4ms/step - loss: 7.5966 - mae: 7.5966\n",
            "Epoch 17/100\n",
            "1/1 [==============================] - 0s 2ms/step - loss: 7.6639 - mae: 7.6639\n",
            "Epoch 18/100\n",
            "1/1 [==============================] - 0s 4ms/step - loss: 7.5552 - mae: 7.5552\n",
            "Epoch 19/100\n",
            "1/1 [==============================] - 0s 3ms/step - loss: 7.3105 - mae: 7.3105\n",
            "Epoch 20/100\n",
            "1/1 [==============================] - 0s 2ms/step - loss: 6.9605 - mae: 6.9605\n",
            "Epoch 21/100\n",
            "1/1 [==============================] - 0s 2ms/step - loss: 6.6713 - mae: 6.6713\n",
            "Epoch 22/100\n",
            "1/1 [==============================] - 0s 4ms/step - loss: 6.3902 - mae: 6.3902\n",
            "Epoch 23/100\n",
            "1/1 [==============================] - 0s 4ms/step - loss: 6.1005 - mae: 6.1005\n",
            "Epoch 24/100\n",
            "1/1 [==============================] - 0s 2ms/step - loss: 5.9818 - mae: 5.9818\n",
            "Epoch 25/100\n",
            "1/1 [==============================] - 0s 3ms/step - loss: 5.9385 - mae: 5.9385\n",
            "Epoch 26/100\n",
            "1/1 [==============================] - 0s 2ms/step - loss: 6.1113 - mae: 6.1113\n",
            "Epoch 27/100\n",
            "1/1 [==============================] - 0s 4ms/step - loss: 6.2051 - mae: 6.2051\n",
            "Epoch 28/100\n",
            "1/1 [==============================] - 0s 3ms/step - loss: 6.2043 - mae: 6.2043\n",
            "Epoch 29/100\n",
            "1/1 [==============================] - 0s 3ms/step - loss: 6.1205 - mae: 6.1205\n",
            "Epoch 30/100\n",
            "1/1 [==============================] - 0s 6ms/step - loss: 5.9625 - mae: 5.9625\n",
            "Epoch 31/100\n",
            "1/1 [==============================] - 0s 2ms/step - loss: 5.7370 - mae: 5.7370\n",
            "Epoch 32/100\n",
            "1/1 [==============================] - 0s 2ms/step - loss: 5.4488 - mae: 5.4488\n",
            "Epoch 33/100\n",
            "1/1 [==============================] - 0s 3ms/step - loss: 5.3120 - mae: 5.3120\n",
            "Epoch 34/100\n",
            "1/1 [==============================] - 0s 2ms/step - loss: 5.2021 - mae: 5.2021\n",
            "Epoch 35/100\n",
            "1/1 [==============================] - 0s 2ms/step - loss: 5.2428 - mae: 5.2428\n",
            "Epoch 36/100\n",
            "1/1 [==============================] - 0s 3ms/step - loss: 5.2640 - mae: 5.2640\n",
            "Epoch 37/100\n",
            "1/1 [==============================] - 0s 4ms/step - loss: 5.2422 - mae: 5.2422\n",
            "Epoch 38/100\n",
            "1/1 [==============================] - 0s 2ms/step - loss: 5.1806 - mae: 5.1806\n",
            "Epoch 39/100\n",
            "1/1 [==============================] - 0s 2ms/step - loss: 5.0823 - mae: 5.0823\n",
            "Epoch 40/100\n",
            "1/1 [==============================] - 0s 5ms/step - loss: 4.9503 - mae: 4.9503\n",
            "Epoch 41/100\n",
            "1/1 [==============================] - 0s 2ms/step - loss: 4.7874 - mae: 4.7874\n",
            "Epoch 42/100\n",
            "1/1 [==============================] - 0s 3ms/step - loss: 4.5963 - mae: 4.5963\n",
            "Epoch 43/100\n",
            "1/1 [==============================] - 0s 3ms/step - loss: 4.3794 - mae: 4.3794\n",
            "Epoch 44/100\n",
            "1/1 [==============================] - 0s 3ms/step - loss: 4.2426 - mae: 4.2426\n",
            "Epoch 45/100\n",
            "1/1 [==============================] - 0s 3ms/step - loss: 4.1506 - mae: 4.1506\n",
            "Epoch 46/100\n",
            "1/1 [==============================] - 0s 3ms/step - loss: 4.1317 - mae: 4.1317\n",
            "Epoch 47/100\n",
            "1/1 [==============================] - 0s 3ms/step - loss: 4.0699 - mae: 4.0699\n",
            "Epoch 48/100\n",
            "1/1 [==============================] - 0s 3ms/step - loss: 3.9015 - mae: 3.9015\n",
            "Epoch 49/100\n",
            "1/1 [==============================] - 0s 2ms/step - loss: 3.6493 - mae: 3.6493\n",
            "Epoch 50/100\n",
            "1/1 [==============================] - 0s 3ms/step - loss: 3.4931 - mae: 3.4931\n",
            "Epoch 51/100\n",
            "1/1 [==============================] - 0s 3ms/step - loss: 3.3301 - mae: 3.3301\n",
            "Epoch 52/100\n",
            "1/1 [==============================] - 0s 2ms/step - loss: 3.2316 - mae: 3.2316\n",
            "Epoch 53/100\n",
            "1/1 [==============================] - 0s 2ms/step - loss: 3.1200 - mae: 3.1200\n",
            "Epoch 54/100\n",
            "1/1 [==============================] - 0s 3ms/step - loss: 2.9605 - mae: 2.9605\n",
            "Epoch 55/100\n",
            "1/1 [==============================] - 0s 3ms/step - loss: 2.7552 - mae: 2.7552\n",
            "Epoch 56/100\n",
            "1/1 [==============================] - 0s 2ms/step - loss: 2.5063 - mae: 2.5063\n",
            "Epoch 57/100\n",
            "1/1 [==============================] - 0s 4ms/step - loss: 2.3449 - mae: 2.3449\n",
            "Epoch 58/100\n",
            "1/1 [==============================] - 0s 3ms/step - loss: 2.2800 - mae: 2.2800\n",
            "Epoch 59/100\n",
            "1/1 [==============================] - 0s 2ms/step - loss: 2.1153 - mae: 2.1153\n",
            "Epoch 60/100\n",
            "1/1 [==============================] - 0s 5ms/step - loss: 1.8137 - mae: 1.8137\n",
            "Epoch 61/100\n",
            "1/1 [==============================] - 0s 2ms/step - loss: 1.5219 - mae: 1.5219\n",
            "Epoch 62/100\n",
            "1/1 [==============================] - 0s 3ms/step - loss: 1.4489 - mae: 1.4489\n",
            "Epoch 63/100\n",
            "1/1 [==============================] - 0s 3ms/step - loss: 1.3178 - mae: 1.3178\n",
            "Epoch 64/100\n",
            "1/1 [==============================] - 0s 3ms/step - loss: 1.0098 - mae: 1.0098\n",
            "Epoch 65/100\n",
            "1/1 [==============================] - 0s 2ms/step - loss: 0.6152 - mae: 0.6152\n",
            "Epoch 66/100\n",
            "1/1 [==============================] - 0s 2ms/step - loss: 0.5455 - mae: 0.5455\n",
            "Epoch 67/100\n",
            "1/1 [==============================] - 0s 4ms/step - loss: 0.3818 - mae: 0.3818\n",
            "Epoch 68/100\n",
            "1/1 [==============================] - 0s 4ms/step - loss: 0.2063 - mae: 0.2063\n",
            "Epoch 69/100\n",
            "1/1 [==============================] - 0s 3ms/step - loss: 0.5925 - mae: 0.5925\n",
            "Epoch 70/100\n",
            "1/1 [==============================] - 0s 5ms/step - loss: 0.9036 - mae: 0.9036\n",
            "Epoch 71/100\n",
            "1/1 [==============================] - 0s 3ms/step - loss: 1.0000 - mae: 1.0000\n",
            "Epoch 72/100\n",
            "1/1 [==============================] - 0s 2ms/step - loss: 0.9052 - mae: 0.9052\n",
            "Epoch 73/100\n",
            "1/1 [==============================] - 0s 2ms/step - loss: 0.6468 - mae: 0.6468\n",
            "Epoch 74/100\n",
            "1/1 [==============================] - 0s 3ms/step - loss: 0.7787 - mae: 0.7787\n",
            "Epoch 75/100\n",
            "1/1 [==============================] - 0s 2ms/step - loss: 0.8177 - mae: 0.8177\n",
            "Epoch 76/100\n",
            "1/1 [==============================] - 0s 3ms/step - loss: 0.6644 - mae: 0.6644\n",
            "Epoch 77/100\n",
            "1/1 [==============================] - 0s 5ms/step - loss: 0.3885 - mae: 0.3885\n",
            "Epoch 78/100\n",
            "1/1 [==============================] - 0s 3ms/step - loss: 0.4174 - mae: 0.4174\n",
            "Epoch 79/100\n",
            "1/1 [==============================] - 0s 3ms/step - loss: 0.3083 - mae: 0.3083\n",
            "Epoch 80/100\n",
            "1/1 [==============================] - 0s 3ms/step - loss: 0.1211 - mae: 0.1211\n",
            "Epoch 81/100\n",
            "1/1 [==============================] - 0s 3ms/step - loss: 0.3604 - mae: 0.3604\n",
            "Epoch 82/100\n",
            "1/1 [==============================] - 0s 3ms/step - loss: 0.5394 - mae: 0.5394\n",
            "Epoch 83/100\n",
            "1/1 [==============================] - 0s 2ms/step - loss: 0.5591 - mae: 0.5591\n",
            "Epoch 84/100\n",
            "1/1 [==============================] - 0s 3ms/step - loss: 0.4344 - mae: 0.4344\n",
            "Epoch 85/100\n",
            "1/1 [==============================] - 0s 4ms/step - loss: 0.4042 - mae: 0.4042\n",
            "Epoch 86/100\n",
            "1/1 [==============================] - 0s 2ms/step - loss: 0.5056 - mae: 0.5056\n",
            "Epoch 87/100\n",
            "1/1 [==============================] - 0s 4ms/step - loss: 0.3761 - mae: 0.3761\n",
            "Epoch 88/100\n",
            "1/1 [==============================] - 0s 3ms/step - loss: 0.2558 - mae: 0.2558\n",
            "Epoch 89/100\n",
            "1/1 [==============================] - 0s 2ms/step - loss: 0.2688 - mae: 0.2688\n",
            "Epoch 90/100\n",
            "1/1 [==============================] - 0s 2ms/step - loss: 0.1930 - mae: 0.1930\n",
            "Epoch 91/100\n",
            "1/1 [==============================] - 0s 2ms/step - loss: 0.1533 - mae: 0.1533\n",
            "Epoch 92/100\n",
            "1/1 [==============================] - 0s 2ms/step - loss: 0.2752 - mae: 0.2752\n",
            "Epoch 93/100\n",
            "1/1 [==============================] - 0s 3ms/step - loss: 0.2415 - mae: 0.2415\n",
            "Epoch 94/100\n",
            "1/1 [==============================] - 0s 4ms/step - loss: 0.1655 - mae: 0.1655\n",
            "Epoch 95/100\n",
            "1/1 [==============================] - 0s 4ms/step - loss: 0.1649 - mae: 0.1649\n",
            "Epoch 96/100\n",
            "1/1 [==============================] - 0s 3ms/step - loss: 0.1009 - mae: 0.1009\n",
            "Epoch 97/100\n",
            "1/1 [==============================] - 0s 4ms/step - loss: 0.0571 - mae: 0.0571\n",
            "Epoch 98/100\n",
            "1/1 [==============================] - 0s 5ms/step - loss: 0.2253 - mae: 0.2253\n",
            "Epoch 99/100\n",
            "1/1 [==============================] - 0s 3ms/step - loss: 0.2259 - mae: 0.2259\n",
            "Epoch 100/100\n",
            "1/1 [==============================] - 0s 3ms/step - loss: 0.1039 - mae: 0.1039\n"
          ],
          "name": "stdout"
        },
        {
          "output_type": "execute_result",
          "data": {
            "text/plain": [
              "<tensorflow.python.keras.callbacks.History at 0x1b67df436d0>"
            ]
          },
          "metadata": {
            "tags": []
          },
          "execution_count": 38
        }
      ]
    },
    {
      "cell_type": "code",
      "metadata": {
        "colab": {
          "base_uri": "https://localhost:8080/"
        },
        "id": "fj_IU1RxfVeO",
        "outputId": "f03187da-d8d3-4a2d-f0ac-765e31e77755"
      },
      "source": [
        "model.predict([17.0])"
      ],
      "execution_count": 39,
      "outputs": [
        {
          "output_type": "execute_result",
          "data": {
            "text/plain": [
              "array([[27.414919]], dtype=float32)"
            ]
          },
          "metadata": {
            "tags": []
          },
          "execution_count": 39
        }
      ]
    },
    {
      "cell_type": "markdown",
      "metadata": {
        "id": "40Np6tk1fgfi"
      },
      "source": [
        "## Evaluating a model\n",
        "\n",
        "In practice, a typical workflow you will go through when building neural network is:\n",
        "\n",
        "build the model -> fit it -> evaluate it and start again"
      ]
    },
    {
      "cell_type": "markdown",
      "metadata": {
        "id": "Z5SEHJAWgdjF"
      },
      "source": [
        "when it comes to evaluation ... there are 3 words you should memorize:\n",
        "\n",
        " > \"Visualize, visualize, visualize\"\n",
        "\n",
        "Its a good idea to visualize:\n",
        "* the data - what data are we working with? what does it look like?\n",
        "* the model itself - what does our model look like?\n",
        "* The training of a model - how does a model perform while it learns?\n",
        "* the predictions of the model - how do he predictions of a model lin eup against the ground truth ( the original labels) ?\n"
      ]
    },
    {
      "cell_type": "code",
      "metadata": {
        "colab": {
          "base_uri": "https://localhost:8080/"
        },
        "id": "5-3jVGaWibt8",
        "outputId": "e993c1cf-865a-41b1-cfe3-e4389b26f673"
      },
      "source": [
        "# make a bigger dataset\n",
        "X = tf.range( -100, 100 , 4)\n",
        "X"
      ],
      "execution_count": 40,
      "outputs": [
        {
          "output_type": "execute_result",
          "data": {
            "text/plain": [
              "<tf.Tensor: shape=(50,), dtype=int32, numpy=\n",
              "array([-100,  -96,  -92,  -88,  -84,  -80,  -76,  -72,  -68,  -64,  -60,\n",
              "        -56,  -52,  -48,  -44,  -40,  -36,  -32,  -28,  -24,  -20,  -16,\n",
              "        -12,   -8,   -4,    0,    4,    8,   12,   16,   20,   24,   28,\n",
              "         32,   36,   40,   44,   48,   52,   56,   60,   64,   68,   72,\n",
              "         76,   80,   84,   88,   92,   96])>"
            ]
          },
          "metadata": {
            "tags": []
          },
          "execution_count": 40
        }
      ]
    },
    {
      "cell_type": "code",
      "metadata": {
        "colab": {
          "base_uri": "https://localhost:8080/"
        },
        "id": "hmjsODCTijcu",
        "outputId": "0ab3db69-57f4-4c75-c670-6f43c08915ba"
      },
      "source": [
        "# make labels for the dataset\n",
        "y = X + 10\n",
        "y"
      ],
      "execution_count": 42,
      "outputs": [
        {
          "output_type": "execute_result",
          "data": {
            "text/plain": [
              "<tf.Tensor: shape=(50,), dtype=int32, numpy=\n",
              "array([-90, -86, -82, -78, -74, -70, -66, -62, -58, -54, -50, -46, -42,\n",
              "       -38, -34, -30, -26, -22, -18, -14, -10,  -6,  -2,   2,   6,  10,\n",
              "        14,  18,  22,  26,  30,  34,  38,  42,  46,  50,  54,  58,  62,\n",
              "        66,  70,  74,  78,  82,  86,  90,  94,  98, 102, 106])>"
            ]
          },
          "metadata": {
            "tags": []
          },
          "execution_count": 42
        }
      ]
    },
    {
      "cell_type": "code",
      "metadata": {
        "colab": {
          "base_uri": "https://localhost:8080/",
          "height": 283
        },
        "id": "6UzyyUnKip2Z",
        "outputId": "73e6c0a4-4a83-4019-cb33-1bcca69cc60b"
      },
      "source": [
        "plt.scatter(X,y)"
      ],
      "execution_count": 44,
      "outputs": [
        {
          "output_type": "execute_result",
          "data": {
            "text/plain": [
              "<matplotlib.collections.PathCollection at 0x1b67fbcf9a0>"
            ]
          },
          "metadata": {
            "tags": []
          },
          "execution_count": 44
        },
        {
          "output_type": "display_data",
          "data": {
            "text/plain": [
              "<Figure size 432x288 with 1 Axes>"
            ],
            "image/png": "[encoded data removed]"
          },
          "metadata": {
            "tags": [],
            "needs_background": "light"
          }
        }
      ]
    },
    {
      "cell_type": "markdown",
      "metadata": {
        "id": "o1rvADHdivGB"
      },
      "source": [
        "### The 3 sets... \n",
        "\n",
        "* **train set**- 70-80% of the data\n",
        "* **Validation set** - 10-15% of the data\n",
        "* **test set** - 10-15 % of the data"
      ]
    },
    {
      "cell_type": "code",
      "metadata": {
        "colab": {
          "base_uri": "https://localhost:8080/"
        },
        "id": "mYPjPfcijqnO",
        "outputId": "de9002e7-9774-4979-93a6-9bc770b42277"
      },
      "source": [
        "len(X)"
      ],
      "execution_count": 45,
      "outputs": [
        {
          "output_type": "execute_result",
          "data": {
            "text/plain": [
              "50"
            ]
          },
          "metadata": {
            "tags": []
          },
          "execution_count": 45
        }
      ]
    },
    {
      "cell_type": "code",
      "metadata": {
        "id": "t573wrEcj0co"
      },
      "source": [
        "# split the data into train and test sets \n",
        "X_train = X[:40]\n",
        "y_train = X[:40]\n",
        "\n",
        "X_test = X[40:]\n",
        "y_test= y[40:]"
      ],
      "execution_count": 78,
      "outputs": []
    },
    {
      "cell_type": "code",
      "metadata": {
        "colab": {
          "base_uri": "https://localhost:8080/"
        },
        "id": "q_BhJ2n-kVBP",
        "outputId": "251cd8be-d12e-4ec2-cd4e-7e954621855b"
      },
      "source": [
        "len(X_train), len(X_test)"
      ],
      "execution_count": 79,
      "outputs": [
        {
          "output_type": "execute_result",
          "data": {
            "text/plain": [
              "(40, 10)"
            ]
          },
          "metadata": {
            "tags": []
          },
          "execution_count": 79
        }
      ]
    },
    {
      "cell_type": "markdown",
      "metadata": {
        "id": "0hAH2eqxkqdV"
      },
      "source": [
        "### Visualizing the data"
      ]
    },
    {
      "cell_type": "code",
      "metadata": {
        "colab": {
          "base_uri": "https://localhost:8080/",
          "height": 428
        },
        "id": "ycxe-bHokWPm",
        "outputId": "043d20bf-f039-494d-d98b-78031df4000c"
      },
      "source": [
        "X = tf.range( -100, 100 , 4)\n",
        "y = X + 10\n",
        "\n",
        "X_train = X[:40]\n",
        "y_train = y[:40]\n",
        "\n",
        "X_test = X[40:]\n",
        "y_test= y[40:]\n",
        "\n",
        "plt.figure(figsize=(10, 7))\n",
        "# Plot training data in blue\n",
        "plt.scatter(X_train, y_train, c='b', label='Training data')\n",
        "# Plot test data in green\n",
        "plt.scatter(X_test, y_test, c='g', label='Testing data')\n",
        "# Show the legend\n",
        "plt.legend();"
      ],
      "execution_count": 116,
      "outputs": [
        {
          "output_type": "display_data",
          "data": {
            "text/plain": [
              "<Figure size 720x504 with 1 Axes>"
            ],
            "image/png": "[encoded data removed]"
          },
          "metadata": {
            "tags": [],
            "needs_background": "light"
          }
        }
      ]
    },
    {
      "cell_type": "code",
      "metadata": {
        "colab": {
          "base_uri": "https://localhost:8080/",
          "height": 283
        },
        "id": "gnkns3zIkWXm",
        "outputId": "f57a2bad-3c2c-4c40-fffc-254a897ce61e"
      },
      "source": [
        "plt.scatter(X_test,y_test)"
      ],
      "execution_count": 105,
      "outputs": [
        {
          "output_type": "execute_result",
          "data": {
            "text/plain": [
              "<matplotlib.collections.PathCollection at 0x1b683d81550>"
            ]
          },
          "metadata": {
            "tags": []
          },
          "execution_count": 105
        },
        {
          "output_type": "display_data",
          "data": {
            "text/plain": [
              "<Figure size 432x288 with 1 Axes>"
            ],
            "image/png": "[encoded data removed]"
          },
          "metadata": {
            "tags": [],
            "needs_background": "light"
          }
        }
      ]
    },
    {
      "cell_type": "code",
      "metadata": {
        "id": "RwuzTSYwkWYU"
      },
      "source": [
        "# lets see what we can do to improve it futher\n",
        "\n",
        "# 1. create the model ( this time with an extra hidden layer with 100 hidden units )\n",
        "model = tf.keras.Sequential([\n",
        "                            tf.keras.layers.Dense(1)\n",
        "])\n",
        "\n",
        "# 2 . compiling the model \n",
        "model.compile(optimizer = tf.keras.optimizers.SGD(),\n",
        "              loss = tf.keras.losses.mae,\n",
        "              metrics = [\"mae\"])\n",
        "\n",
        "# 3. fitting the model\n",
        "#model.fit(X_train, y_train, epochs = 100)"
      ],
      "execution_count": 117,
      "outputs": []
    },
    {
      "cell_type": "markdown",
      "metadata": {
        "id": "08hgQvndkWY9"
      },
      "source": [
        "### visualizing a model"
      ]
    },
    {
      "cell_type": "code",
      "metadata": {
        "id": "8PYKZAJpkWZn"
      },
      "source": [
        "#model.summary()\n",
        "#will get a error if the model is not run at least once or inputshape is not given"
      ],
      "execution_count": 84,
      "outputs": []
    },
    {
      "cell_type": "code",
      "metadata": {
        "colab": {
          "base_uri": "https://localhost:8080/"
        },
        "id": "pG7qtDKnkWaS",
        "outputId": "476902c7-7985-4bd6-95a7-5cd6ef4649af"
      },
      "source": [
        "tf.random.set_seed(42)\n",
        "model = tf.keras.Sequential([\n",
        "                            tf.keras.layers.Dense(10 , input_shape = [1], name = \"Inpur_layer\"),\n",
        "                            tf.keras.layers.Dense(1, name = \"Output_layer\")\n",
        "                            \n",
        "], name = \"my_model\")\n",
        "\n",
        "model.compile(optimizer = tf.keras.optimizers.SGD(learning_rate= 0.01),\n",
        "              loss = tf.keras.losses.mae,\n",
        "              metrics = [\"mae\"])\n",
        "model.fit(X_train,y_train, verbose = 0,epochs = 100)"
      ],
      "execution_count": 131,
      "outputs": [
        {
          "output_type": "execute_result",
          "data": {
            "text/plain": [
              "<tensorflow.python.keras.callbacks.History at 0x1b684ef1cd0>"
            ]
          },
          "metadata": {
            "tags": []
          },
          "execution_count": 131
        }
      ]
    },
    {
      "cell_type": "code",
      "metadata": {
        "colab": {
          "base_uri": "https://localhost:8080/"
        },
        "id": "AaV7erIskWa9",
        "outputId": "e54580a6-2c9c-4a29-bf3f-1fde470419b6"
      },
      "source": [
        "model.summary()"
      ],
      "execution_count": 132,
      "outputs": [
        {
          "output_type": "stream",
          "text": [
            "Model: \"my_model\"\n",
            "_________________________________________________________________\n",
            "Layer (type)                 Output Shape              Param #   \n",
            "=================================================================\n",
            "Inpur_layer (Dense)          (None, 10)                20        \n",
            "_________________________________________________________________\n",
            "Output_layer (Dense)         (None, 1)                 11        \n",
            "=================================================================\n",
            "Total params: 31\n",
            "Trainable params: 31\n",
            "Non-trainable params: 0\n",
            "_________________________________________________________________\n"
          ],
          "name": "stdout"
        }
      ]
    },
    {
      "cell_type": "markdown",
      "metadata": {
        "id": "ZnEJHeNvkWbp"
      },
      "source": [
        "* **Total params** - total no of parameters in the model.\n",
        "* **Trainable parameters** - these are the parameters (patterns)\n",
        "the model can update as it trains.\n",
        "* **Non-trainable params** - these parameters aren't updated during training (this is typical when you use parameters from other models during **transfer learning**)\n"
      ]
    },
    {
      "cell_type": "code",
      "metadata": {
        "colab": {
          "base_uri": "https://localhost:8080/",
          "height": 312
        },
        "id": "tL3cJS8hkVTu",
        "outputId": "13dbdc75-28ae-4cfe-d772-eda8dc8ce038"
      },
      "source": [
        "from tensorflow.keras.utils import plot_model\n",
        "\n",
        "plot_model(model= model, show_shapes= True)"
      ],
      "execution_count": 133,
      "outputs": [
        {
          "output_type": "execute_result",
          "data": {
            "image/png": "[encoded data removed]",
            "text/plain": [
              "<IPython.core.display.Image object>"
            ]
          },
          "metadata": {
            "tags": []
          },
          "execution_count": 133
        }
      ]
    },
    {
      "cell_type": "markdown",
      "metadata": {
        "id": "Ucxr19r8p_qh"
      },
      "source": [
        "### Visulizing our models predictions\n",
        "\n",
        "To visualize predictions , its a good idea to plot them against the ground truth labels.\n",
        "often you will see this in the form of y_test or y_true versus the y_pred "
      ]
    },
    {
      "cell_type": "code",
      "metadata": {
        "colab": {
          "base_uri": "https://localhost:8080/"
        },
        "id": "y_Ri-64ir3Bv",
        "outputId": "07783ce3-580e-4796-fa9a-0865ad8466c1"
      },
      "source": [
        "# Make some predictions\n",
        "y_pred = model.predict(X_test)\n",
        "y_pred"
      ],
      "execution_count": 134,
      "outputs": [
        {
          "output_type": "execute_result",
          "data": {
            "text/plain": [
              "array([[ 70.55219 ],\n",
              "       [ 75.139915],\n",
              "       [ 79.72764 ],\n",
              "       [ 84.31536 ],\n",
              "       [ 88.90308 ],\n",
              "       [ 93.49081 ],\n",
              "       [ 98.07853 ],\n",
              "       [102.66626 ],\n",
              "       [107.253975],\n",
              "       [111.841705]], dtype=float32)"
            ]
          },
          "metadata": {
            "tags": []
          },
          "execution_count": 134
        }
      ]
    },
    {
      "cell_type": "code",
      "metadata": {
        "colab": {
          "base_uri": "https://localhost:8080/"
        },
        "id": "2cL-lW2Hr3c7",
        "outputId": "0a8c6bcc-8108-419b-d9e9-59edd69579b1"
      },
      "source": [
        "y_test"
      ],
      "execution_count": 135,
      "outputs": [
        {
          "output_type": "execute_result",
          "data": {
            "text/plain": [
              "<tf.Tensor: shape=(10,), dtype=int32, numpy=array([ 70,  74,  78,  82,  86,  90,  94,  98, 102, 106])>"
            ]
          },
          "metadata": {
            "tags": []
          },
          "execution_count": 135
        }
      ]
    },
    {
      "cell_type": "code",
      "metadata": {
        "id": "ehcQ5KxWr3yp"
      },
      "source": [
        "# lets create a plotting function\n",
        "\n",
        "def plot_predictions(train_data = X_train,\n",
        "                     train_labels = y_train,\n",
        "                     test_data = X_test,\n",
        "                     test_labels = y_test,\n",
        "                     predictions = y_pred):\n",
        "  \"\"\"\n",
        "  Plots training data, test data and compares predictions to ground truth \n",
        "  \"\"\"\n",
        "  plt.figure(figsize= (10,7))\n",
        "  # Plot the training data in blue \n",
        "  plt.scatter(train_data, train_labels, c =\"b\", label = \"training data\")\n",
        "  # Plot the testing data in green \n",
        "  plt.scatter(test_data, test_labels, c =\"g\", label = \"testing data\")\n",
        "  # Plot models predictions in red\n",
        "  plt.scatter(test_data,predictions, c = \"r\", label = \"predictions\")\n",
        "  plt.legend();\n"
      ],
      "execution_count": 136,
      "outputs": []
    },
    {
      "cell_type": "code",
      "metadata": {
        "colab": {
          "base_uri": "https://localhost:8080/",
          "height": 428
        },
        "id": "UCEP7rKzr345",
        "outputId": "8903fcc0-8f10-493a-f802-ec0f77203e98"
      },
      "source": [
        "plot_predictions(train_data = X_train,\n",
        "                     train_labels = y_train,\n",
        "                     test_data = X_test,\n",
        "                     test_labels = y_test,\n",
        "                     predictions = y_pred)"
      ],
      "execution_count": 137,
      "outputs": [
        {
          "output_type": "display_data",
          "data": {
            "text/plain": [
              "<Figure size 720x504 with 1 Axes>"
            ],
            "image/png": "[encoded data removed]"
          },
          "metadata": {
            "tags": [],
            "needs_background": "light"
          }
        }
      ]
    },
    {
      "cell_type": "markdown",
      "metadata": {
        "id": "VMifohC4r3-0"
      },
      "source": [
        "### Evaluating our models prediction with regression evaluation metrics"
      ]
    },
    {
      "cell_type": "code",
      "metadata": {
        "id": "iJ1_riVqxxhB"
      },
      "source": [
        ""
      ],
      "execution_count": null,
      "outputs": []
    }
  ]
}